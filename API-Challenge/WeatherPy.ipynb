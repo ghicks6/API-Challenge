{
 "cells": [
  {
   "cell_type": "markdown",
   "metadata": {},
   "source": [
    "# WeatherPy\n",
    "----\n",
    "\n",
    "#### Note\n",
    "* Instructions have been included for each segment. You do not have to follow them exactly, but they are included to help you think through the steps."
   ]
  },
  {
   "cell_type": "code",
   "execution_count": 123,
   "metadata": {},
   "outputs": [],
   "source": [
    "# Dependencies and Setup\n",
    "import matplotlib.pyplot as plt\n",
    "import pandas as pd\n",
    "import numpy as np\n",
    "import requests\n",
    "import time\n",
    "from scipy.stats import linregress\n",
    "import json\n",
    "\n",
    "# Import API key\n",
    "from api_keys import weather_api_key\n",
    "\n",
    "# Incorporated citipy to determine city based on latitude and longitude\n",
    "from citipy import citipy\n",
    "\n",
    "# Output File (CSV)\n",
    "output_data_file = \"output_data/cities.csv\"\n",
    "\n",
    "# Range of latitudes and longitudes\n",
    "lat_range = (-90, 90)\n",
    "lng_range = (-180, 180)"
   ]
  },
  {
   "cell_type": "markdown",
   "metadata": {},
   "source": [
    "## Generate Cities List"
   ]
  },
  {
   "cell_type": "code",
   "execution_count": 124,
   "metadata": {},
   "outputs": [
    {
     "data": {
      "text/plain": [
       "599"
      ]
     },
     "execution_count": 124,
     "metadata": {},
     "output_type": "execute_result"
    }
   ],
   "source": [
    "# List for holding lat_lngs and cities\n",
    "lat_lngs = []\n",
    "cities = []\n",
    "\n",
    "# Create a set of random lat and lng combinations\n",
    "lats = np.random.uniform(lat_range[0], lat_range[1], size=1500)\n",
    "lngs = np.random.uniform(lng_range[0], lng_range[1], size=1500)\n",
    "lat_lngs = zip(lats, lngs)\n",
    "\n",
    "# Identify nearest city for each lat, lng combination\n",
    "for lat_lng in lat_lngs:\n",
    "    city = citipy.nearest_city(lat_lng[0], lat_lng[1]).city_name\n",
    "    \n",
    "    # If the city is unique, then add it to a our cities list\n",
    "    if city not in cities:\n",
    "        cities.append(city)\n",
    "\n",
    "# Print the city count to confirm sufficient count\n",
    "len(cities)"
   ]
  },
  {
   "cell_type": "markdown",
   "metadata": {},
   "source": [
    "### Perform API Calls\n",
    "* Perform a weather check on each city using a series of successive API calls.\n",
    "* Include a print log of each city as it'sbeing processed (with the city number and city name).\n"
   ]
  },
  {
   "cell_type": "code",
   "execution_count": 125,
   "metadata": {
    "scrolled": true
   },
   "outputs": [
    {
     "name": "stdout",
     "output_type": "stream",
     "text": [
      "http://api.openweathermap.org/data/2.5/weather?appid=bd923925b406be26047f7291a2d6a219&units=imperial&q=\n",
      "{\n",
      "    \"coord\": {\n",
      "        \"lon\": 22.79,\n",
      "        \"lat\": 10.28\n",
      "    },\n",
      "    \"weather\": [\n",
      "        {\n",
      "            \"id\": 800,\n",
      "            \"main\": \"Clear\",\n",
      "            \"description\": \"clear sky\",\n",
      "            \"icon\": \"01n\"\n",
      "        }\n",
      "    ],\n",
      "    \"base\": \"stations\",\n",
      "    \"main\": {\n",
      "        \"temp\": 72.03,\n",
      "        \"feels_like\": 74.35,\n",
      "        \"temp_min\": 72.03,\n",
      "        \"temp_max\": 72.03,\n",
      "        \"pressure\": 1009,\n",
      "        \"humidity\": 70,\n",
      "        \"sea_level\": 1009,\n",
      "        \"grnd_level\": 956\n",
      "    },\n",
      "    \"visibility\": 10000,\n",
      "    \"wind\": {\n",
      "        \"speed\": 2.84,\n",
      "        \"deg\": 280\n",
      "    },\n",
      "    \"clouds\": {\n",
      "        \"all\": 2\n",
      "    },\n",
      "    \"dt\": 1603247904,\n",
      "    \"sys\": {\n",
      "        \"country\": \"CF\",\n",
      "        \"sunrise\": 1603253867,\n",
      "        \"sunset\": 1603296524\n",
      "    },\n",
      "    \"timezone\": 3600,\n",
      "    \"id\": 240210,\n",
      "    \"name\": \"Birao\",\n",
      "    \"cod\": 200\n",
      "}\n"
     ]
    }
   ],
   "source": [
    "# Get Weather Data\n",
    "url = \"http://api.openweathermap.org/data/2.5/weather?\"\n",
    "units = \"imperial\"\n",
    "query_url = f\"{url}appid={weather_api_key}&units={units}&q=\"\n",
    "print(query_url)\n",
    "weather_response = requests.get(query_url + city)\n",
    "weather_json = weather_response.json()\n",
    "print(json.dumps(weather_json, indent=4))"
   ]
  },
  {
   "cell_type": "code",
   "execution_count": 126,
   "metadata": {},
   "outputs": [
    {
     "name": "stdout",
     "output_type": "stream",
     "text": [
      "<Response [200]>\n"
     ]
    }
   ],
   "source": [
    "print(requests.get(query_url + city))"
   ]
  },
  {
   "cell_type": "code",
   "execution_count": 127,
   "metadata": {},
   "outputs": [
    {
     "name": "stdout",
     "output_type": "stream",
     "text": [
      "Beginning Data Retrieval\n",
      "-------------------------------\n",
      "Processing Record 1 | Albany\n",
      "Processing Record 2 | Norman Wells\n",
      "Processing Record 3 | Geraldton\n",
      "Processing Record 4 | Carbonia\n",
      "Processing Record 5 | Bathsheba\n",
      "Processing Record 6 | Tigil'\n",
      "Processing Record 7 | Chokurdakh\n",
      "Processing Record 8 | Ndélé\n",
      "Processing Record 9 | Torbay\n",
      "Processing Record 10 | Avera\n",
      "Processing Record 11 | Cape Town\n",
      "City not found. Skipping...\n",
      "Processing Record 12 | Severo-Kuril'sk\n",
      "Processing Record 13 | Hermanus\n",
      "Processing Record 14 | Guadalupe y Calvo\n",
      "Processing Record 15 | Rikitea\n",
      "Processing Record 16 | Jamestown\n",
      "Processing Record 17 | Poum\n",
      "Processing Record 18 | Saskylakh\n",
      "Processing Record 19 | Castro\n",
      "Processing Record 20 | Atbasar\n",
      "Processing Record 21 | Bredasdorp\n",
      "City not found. Skipping...\n",
      "Processing Record 22 | Tuktoyaktuk\n",
      "Processing Record 23 | Mogadishu\n",
      "Processing Record 24 | Cuamba\n",
      "Processing Record 25 | Ponta do Sol\n",
      "Processing Record 26 | Santa Inês\n",
      "Processing Record 27 | Gävle\n",
      "Processing Record 28 | New Norfolk\n",
      "Processing Record 29 | Port Elizabeth\n",
      "Processing Record 30 | Ishigaki\n",
      "Processing Record 31 | Pisco\n",
      "Processing Record 32 | Denpasar\n",
      "Processing Record 33 | Yar-Sale\n",
      "Processing Record 34 | Bluff\n",
      "Processing Record 35 | West Bay\n",
      "Processing Record 36 | Ilulissat\n",
      "Processing Record 37 | Faanui\n",
      "Processing Record 38 | Thompson\n",
      "Processing Record 39 | Mar del Plata\n",
      "Processing Record 40 | Livenka\n",
      "Processing Record 41 | Mossamedes\n",
      "Processing Record 42 | Mataura\n",
      "Processing Record 43 | Maicao\n",
      "Processing Record 44 | Puerto Ayora\n",
      "Processing Record 45 | Ushuaia\n",
      "Processing Record 46 | Faya\n",
      "Processing Record 47 | Nikolskoye\n",
      "Processing Record 48 | Sept-Îles\n",
      "Processing Record 49 | Busselton\n",
      "Processing Record 50 | Eureka\n",
      "Processing Record 51 | Longyearbyen\n",
      "Processing Record 52 | Hobart\n",
      "Processing Record 53 | Litovko\n",
      "Processing Record 54 | Pacific Grove\n",
      "Processing Record 55 | Port Macquarie\n",
      "Processing Record 56 | Kaitangata\n",
      "Processing Record 57 | Nuuk\n",
      "Processing Record 58 | Hobyo\n",
      "Processing Record 59 | Khatanga\n",
      "Processing Record 60 | Gizo Government Station\n",
      "Processing Record 61 | George Town\n",
      "City not found. Skipping...\n",
      "Processing Record 62 | Roald\n",
      "Processing Record 63 | Punta Arenas\n",
      "Processing Record 64 | Praia da Vitória\n",
      "Processing Record 65 | Zyryanka\n",
      "Processing Record 66 | Mizdah\n",
      "Processing Record 67 | Arraial do Cabo\n",
      "Processing Record 68 | Vaini\n",
      "Processing Record 69 | Lebu\n",
      "Processing Record 70 | Tanete\n",
      "Processing Record 71 | Butaritari\n",
      "Processing Record 72 | Beloha\n",
      "Processing Record 73 | Saint-Philippe\n",
      "Processing Record 74 | Pangkalanbuun\n",
      "Processing Record 75 | Ipanema\n",
      "Processing Record 76 | Port Blair\n",
      "Processing Record 77 | Taltal\n",
      "City not found. Skipping...\n",
      "Processing Record 78 | Omboué\n",
      "Processing Record 79 | Atuona\n",
      "Processing Record 80 | Yola\n",
      "Processing Record 81 | Port Alfred\n",
      "Processing Record 82 | Ribeira Grande\n",
      "Processing Record 83 | Elizabeth City\n",
      "Processing Record 84 | Port Lincoln\n",
      "Processing Record 85 | Alofi\n",
      "Processing Record 86 | Mfou\n",
      "Processing Record 87 | Arlit\n",
      "Processing Record 88 | Alamogordo\n",
      "Processing Record 89 | Grindavik\n",
      "Processing Record 90 | Zhangjiakou\n",
      "Processing Record 91 | Tateyama\n",
      "Processing Record 92 | Zhicheng\n",
      "Processing Record 93 | College\n",
      "Processing Record 94 | Mackay\n",
      "Processing Record 95 | Acarí\n",
      "Processing Record 96 | Airai\n",
      "Processing Record 97 | Thinadhoo\n",
      "City not found. Skipping...\n",
      "Processing Record 98 | Inzer\n",
      "Processing Record 99 | Kapaa\n",
      "Processing Record 100 | Kabanjahe\n",
      "City not found. Skipping...\n",
      "Processing Record 101 | Warri\n",
      "Processing Record 102 | Aswān\n",
      "Processing Record 103 | Tiksi\n",
      "Processing Record 104 | Portland\n",
      "Processing Record 105 | Vondrozo\n",
      "Processing Record 106 | Tasiilaq\n",
      "Processing Record 107 | Yellowknife\n",
      "Processing Record 108 | Hofn\n",
      "Processing Record 109 | Saint George\n",
      "Processing Record 110 | Teguise\n",
      "Processing Record 111 | Vila Velha\n",
      "Processing Record 112 | Ancud\n",
      "Processing Record 113 | Muzhi\n",
      "Processing Record 114 | Turukhansk\n",
      "Processing Record 115 | Viedma\n",
      "Processing Record 116 | Nanortalik\n",
      "City not found. Skipping...\n",
      "Processing Record 117 | Tuy Hoa\n",
      "Processing Record 118 | Jertih\n",
      "Processing Record 119 | Laas\n",
      "City not found. Skipping...\n",
      "Processing Record 120 | Aklavik\n",
      "City not found. Skipping...\n",
      "Processing Record 121 | Grand Gaube\n",
      "Processing Record 122 | Hilo\n",
      "Processing Record 123 | La Asuncion\n",
      "Processing Record 124 | Abbeville\n",
      "Processing Record 125 | Shahrud\n",
      "Processing Record 126 | Bariloche\n",
      "City not found. Skipping...\n",
      "Processing Record 127 | Kenai\n",
      "Processing Record 128 | Fortuna\n",
      "Processing Record 129 | Red Bluff\n",
      "Processing Record 130 | Constitución\n",
      "Processing Record 131 | Lagoa\n",
      "Processing Record 132 | Bengkulu\n",
      "Processing Record 133 | Codrington\n",
      "Processing Record 134 | Havre-St-Pierre\n",
      "Processing Record 135 | Māngrol\n",
      "Processing Record 136 | Mehamn\n",
      "Processing Record 137 | Hamilton\n",
      "City not found. Skipping...\n",
      "City not found. Skipping...\n",
      "Processing Record 138 | Antofagasta\n",
      "City not found. Skipping...\n",
      "City not found. Skipping...\n",
      "City not found. Skipping...\n",
      "Processing Record 139 | Dunedin\n",
      "Processing Record 140 | Yanam\n",
      "Processing Record 141 | Sørland\n",
      "Processing Record 142 | East London\n",
      "Processing Record 143 | Lompoc\n",
      "Processing Record 144 | Fureidis\n",
      "Processing Record 145 | Kalispell\n",
      "Processing Record 146 | Seoul\n",
      "Processing Record 147 | Isangel\n",
      "Processing Record 148 | Erzin\n",
      "Processing Record 149 | Avarua\n",
      "Processing Record 150 | Meulaboh\n",
      "Processing Record 151 | Zeya\n",
      "Processing Record 152 | Cam Ranh\n",
      "Processing Record 153 | Port Hardy\n",
      "Processing Record 154 | Barrow\n",
      "Processing Record 155 | Cabinda\n",
      "City not found. Skipping...\n",
      "Processing Record 156 | Quatre Cocos\n",
      "Processing Record 157 | Salalah\n",
      "Processing Record 158 | Samarai\n",
      "Processing Record 159 | Arawa\n",
      "Processing Record 160 | Kalmunai\n",
      "Processing Record 161 | Betsiamites\n",
      "Processing Record 162 | Petatlán\n",
      "Processing Record 163 | Quelimane\n",
      "Processing Record 164 | Huilong\n",
      "Processing Record 165 | Maceió\n",
      "Processing Record 166 | San Jose\n",
      "Processing Record 167 | Talnakh\n",
      "Processing Record 168 | Mount Gambier\n",
      "Processing Record 169 | Carroll\n",
      "Processing Record 170 | Karratha\n",
      "Processing Record 171 | Hong Kong\n",
      "Processing Record 172 | Evensk\n",
      "Processing Record 173 | Dingle\n",
      "Processing Record 174 | Shingū\n",
      "Processing Record 175 | Rivers\n",
      "Processing Record 176 | Saint Paul Harbor\n",
      "Processing Record 177 | Hasaki\n",
      "Processing Record 178 | Iqaluit\n",
      "Processing Record 179 | Kahului\n",
      "Processing Record 180 | Berdigestyakh\n",
      "Processing Record 181 | Kavieng\n",
      "Processing Record 182 | Cayenne\n",
      "Processing Record 183 | Touros\n",
      "Processing Record 184 | Ekuvukeni\n",
      "Processing Record 185 | San Patricio\n",
      "City not found. Skipping...\n",
      "Processing Record 186 | Kungurtug\n",
      "Processing Record 187 | Izberbash\n",
      "Processing Record 188 | Wadowice\n",
      "Processing Record 189 | Souillac\n",
      "Processing Record 190 | Winslow\n",
      "Processing Record 191 | Marrakesh\n",
      "Processing Record 192 | Bonthe\n",
      "City not found. Skipping...\n",
      "Processing Record 193 | Springbok\n",
      "Processing Record 194 | Maroon Town\n",
      "Processing Record 195 | Qaanaaq\n",
      "Processing Record 196 | Dongsheng\n",
      "Processing Record 197 | Mandalgovi\n",
      "Processing Record 198 | Belaya Gora\n",
      "Processing Record 199 | Tuatapere\n",
      "Processing Record 200 | Itamaracá\n",
      "Processing Record 201 | Mitú\n",
      "Processing Record 202 | Tegul'det\n",
      "City not found. Skipping...\n",
      "Processing Record 203 | Novaya Ladoga\n",
      "Processing Record 204 | Carnarvon\n",
      "Processing Record 205 | General Pico\n",
      "Processing Record 206 | Lloró\n",
      "Processing Record 207 | Redmond\n",
      "Processing Record 208 | Namatanai\n",
      "Processing Record 209 | Nelson Bay\n",
      "Processing Record 210 | Goderich\n",
      "Processing Record 211 | Alice Springs\n",
      "Processing Record 212 | Hithadhoo\n",
      "Processing Record 213 | Charlestown\n",
      "Processing Record 214 | Cherskiy\n",
      "Processing Record 215 | Carutapera\n",
      "Processing Record 216 | Ilorin\n",
      "Processing Record 217 | Ayagoz\n",
      "Processing Record 218 | Orlik\n",
      "Processing Record 219 | Serdobsk\n",
      "Processing Record 220 | Benguela\n",
      "Processing Record 221 | Paamiut\n",
      "Processing Record 222 | Yibin\n",
      "Processing Record 223 | El Salvador\n",
      "Processing Record 224 | Bandarbeyla\n",
      "Processing Record 225 | Goma\n",
      "City not found. Skipping...\n",
      "Processing Record 226 | Xique-Xique\n",
      "Processing Record 227 | Glasgow\n",
      "Processing Record 228 | Betioky\n",
      "Processing Record 229 | Lüderitz\n",
      "Processing Record 230 | Griffith\n",
      "Processing Record 231 | Labytnangi\n",
      "Processing Record 232 | Makakilo City\n",
      "Processing Record 233 | Aberystwyth\n"
     ]
    },
    {
     "name": "stdout",
     "output_type": "stream",
     "text": [
      "Processing Record 234 | Flinders\n",
      "Processing Record 235 | Cabo San Lucas\n",
      "Processing Record 236 | Deputatsky\n",
      "Processing Record 237 | Bay-Khaak\n",
      "City not found. Skipping...\n",
      "Processing Record 238 | Bambous Virieux\n",
      "Processing Record 239 | Östersund\n",
      "Processing Record 240 | Bulgan\n",
      "Processing Record 241 | Itoman\n",
      "Processing Record 242 | Dikson\n",
      "Processing Record 243 | Woodward\n",
      "Processing Record 244 | Egvekinot\n",
      "Processing Record 245 | Hilton Head\n",
      "Processing Record 246 | Doha\n",
      "Processing Record 247 | Chui\n",
      "Processing Record 248 | Saldanha\n",
      "City not found. Skipping...\n",
      "Processing Record 249 | Alibag\n",
      "Processing Record 250 | Mitsamiouli\n",
      "Processing Record 251 | Pulandian\n",
      "Processing Record 252 | Najrān\n",
      "City not found. Skipping...\n",
      "Processing Record 253 | Namangan\n",
      "Processing Record 254 | Sakaiminato\n",
      "Processing Record 255 | Saint-Pierre\n",
      "Processing Record 256 | Río Gallegos\n",
      "Processing Record 257 | Sibolga\n",
      "Processing Record 258 | Bārān\n",
      "Processing Record 259 | Rize\n",
      "Processing Record 260 | Nouadhibou\n",
      "Processing Record 261 | Apple Valley\n",
      "Processing Record 262 | Grafton\n",
      "Processing Record 263 | Cidreira\n",
      "Processing Record 264 | Nyurba\n",
      "Processing Record 265 | Honiara\n",
      "Processing Record 266 | São Félix do Xingu\n",
      "Processing Record 267 | Provideniya\n",
      "Processing Record 268 | Cockburn Town\n",
      "Processing Record 269 | Emerald\n",
      "Processing Record 270 | Pantai Remis\n",
      "Processing Record 271 | Utraula\n",
      "Processing Record 272 | Vardø\n",
      "Processing Record 273 | Pokhara\n",
      "Processing Record 274 | Upernavik\n",
      "Processing Record 275 | Leningradskiy\n",
      "Processing Record 276 | Gobabis\n",
      "Processing Record 277 | Sola\n",
      "Processing Record 278 | Puerto López\n",
      "Processing Record 279 | Mount Isa\n",
      "Processing Record 280 | Port-Gentil\n",
      "Processing Record 281 | Mahébourg\n",
      "Processing Record 282 | São Filipe\n",
      "Processing Record 283 | Northam\n",
      "Processing Record 284 | Keetmanshoop\n",
      "Processing Record 285 | Te Anau\n",
      "Processing Record 286 | Bethel\n",
      "Processing Record 287 | Mondlo\n",
      "Processing Record 288 | Havelock\n",
      "Processing Record 289 | Lavrentiya\n",
      "City not found. Skipping...\n",
      "Processing Record 290 | Burnie\n",
      "Processing Record 291 | Kamaishi\n",
      "Processing Record 292 | Manche\n",
      "Processing Record 293 | Hauterive\n",
      "Processing Record 294 | Strelka\n",
      "Processing Record 295 | Chalmette\n",
      "Processing Record 296 | Port Augusta\n",
      "Processing Record 297 | Starominskaya\n",
      "Processing Record 298 | Fort Nelson\n",
      "Processing Record 299 | Suntar\n",
      "Processing Record 300 | São João da Barra\n",
      "City not found. Skipping...\n",
      "Processing Record 301 | Malakal\n",
      "Processing Record 302 | Ouégoa\n",
      "City not found. Skipping...\n",
      "Processing Record 303 | Ust-Maya\n",
      "Processing Record 304 | Jackson\n",
      "Processing Record 305 | Aksu\n",
      "Processing Record 306 | Umluj\n",
      "Processing Record 307 | Tendūkheda\n",
      "Processing Record 308 | Green Valley\n",
      "Processing Record 309 | Waspán\n",
      "Processing Record 310 | Dentsville\n",
      "Processing Record 311 | Manuk Mangkaw\n",
      "Processing Record 312 | Krasnyy Chikoy\n",
      "Processing Record 313 | Brae\n",
      "Processing Record 314 | Wilmington\n",
      "Processing Record 315 | Flin Flon\n",
      "Processing Record 316 | Muros\n",
      "Processing Record 317 | Ürümqi\n",
      "Processing Record 318 | Udachny\n",
      "Processing Record 319 | Zvishavane\n",
      "Processing Record 320 | Prestea\n",
      "Processing Record 321 | Dargaville\n",
      "Processing Record 322 | Qaqortoq\n",
      "Processing Record 323 | Nabire\n",
      "City not found. Skipping...\n",
      "Processing Record 324 | Makīnsk\n",
      "Processing Record 325 | Vikhorevka\n",
      "Processing Record 326 | Tongliao\n",
      "Processing Record 327 | Abu Dhabi\n",
      "Processing Record 328 | Kamenka\n",
      "Processing Record 329 | Alekseyevka\n",
      "Processing Record 330 | Salihli\n",
      "Processing Record 331 | Deer Lake\n",
      "Processing Record 332 | Esperance\n",
      "Processing Record 333 | Kavaratti\n",
      "Processing Record 334 | Magadan\n",
      "Processing Record 335 | Sabzawār\n",
      "Processing Record 336 | Ouahigouya\n",
      "Processing Record 337 | Víctor Rosales\n",
      "Processing Record 338 | Tiznit Province\n",
      "City not found. Skipping...\n",
      "Processing Record 339 | Mayo\n",
      "Processing Record 340 | Antalaha\n",
      "Processing Record 341 | Darnah\n",
      "Processing Record 342 | Nizhniy Odes\n",
      "Processing Record 343 | Mnogovershinnyy\n",
      "Processing Record 344 | Muskogee\n",
      "Processing Record 345 | Majagual\n",
      "Processing Record 346 | Dalvik\n",
      "Processing Record 347 | Qandala\n",
      "Processing Record 348 | Clyde River\n",
      "Processing Record 349 | Novikovo\n",
      "Processing Record 350 | Comodoro Rivadavia\n",
      "Processing Record 351 | Vila\n",
      "Processing Record 352 | Whitehorse\n",
      "Processing Record 353 | Ruska Poliana\n",
      "City not found. Skipping...\n",
      "Processing Record 354 | Labuhan\n",
      "City not found. Skipping...\n",
      "Processing Record 355 | Darhan\n",
      "Processing Record 356 | ‘Āhuimanu\n",
      "Processing Record 357 | Hammerfest\n",
      "Processing Record 358 | Gladstone\n",
      "Processing Record 359 | Lerwick\n",
      "Processing Record 360 | Parli\n",
      "Processing Record 361 | Luanda\n",
      "Processing Record 362 | Cabra\n",
      "Processing Record 363 | Iquitos\n",
      "Processing Record 364 | Lagunas\n",
      "Processing Record 365 | Kloulklubed\n",
      "City not found. Skipping...\n",
      "Processing Record 366 | Los Llanos de Aridane\n",
      "Processing Record 367 | Olinda\n",
      "Processing Record 368 | Nouakchott\n",
      "Processing Record 369 | Atar\n",
      "Processing Record 370 | Santo Amaro da Imperatriz\n",
      "Processing Record 371 | Fairbanks\n",
      "Processing Record 372 | Vanavara\n",
      "Processing Record 373 | Kruisfontein\n",
      "Processing Record 374 | Pevek\n",
      "Processing Record 375 | Fare\n",
      "Processing Record 376 | Živinice\n",
      "Processing Record 377 | Izhma\n",
      "Processing Record 378 | Biloela\n",
      "Processing Record 379 | Carballo\n",
      "Processing Record 380 | Huanren\n",
      "Processing Record 381 | Pinsk\n",
      "Processing Record 382 | Sur\n",
      "Processing Record 383 | Bhātāpāra\n",
      "Processing Record 384 | Karoi\n",
      "Processing Record 385 | Simav\n",
      "Processing Record 386 | Elko\n",
      "Processing Record 387 | Natalio\n",
      "Processing Record 388 | Zhaoqing\n",
      "Processing Record 389 | Lumsden\n",
      "Processing Record 390 | Chara\n",
      "Processing Record 391 | Silveira\n",
      "Processing Record 392 | Beringovskiy\n",
      "Processing Record 393 | Padang\n",
      "Processing Record 394 | Warwick\n",
      "Processing Record 395 | Morehead\n",
      "Processing Record 396 | Van Buren\n",
      "Processing Record 397 | Province of Mantua\n",
      "Processing Record 398 | Sumé\n",
      "Processing Record 399 | Saint-Joseph\n",
      "Processing Record 400 | Aksarka\n",
      "Processing Record 401 | Santa Rosalía\n",
      "Processing Record 402 | Vao\n",
      "Processing Record 403 | Bull Savanna\n",
      "Processing Record 404 | Palora\n",
      "Processing Record 405 | Njeru\n",
      "Processing Record 406 | Diffa\n",
      "Processing Record 407 | Camacha\n",
      "Processing Record 408 | Tynda\n",
      "Processing Record 409 | Gazojak\n",
      "Processing Record 410 | Baker City\n",
      "Processing Record 411 | Dwārka\n",
      "Processing Record 412 | Cizre\n",
      "Processing Record 413 | Fukuechō\n",
      "Processing Record 414 | Wau\n",
      "Processing Record 415 | Puerto Cabezas\n",
      "Processing Record 416 | Galle\n",
      "Processing Record 417 | Ust-Kuyga\n",
      "Processing Record 418 | Whitianga\n",
      "Processing Record 419 | Rockingham\n",
      "Processing Record 420 | Safaga\n",
      "Processing Record 421 | Vostok\n",
      "Processing Record 422 | Ajdabiya\n",
      "Processing Record 423 | Jiaojiang\n",
      "Processing Record 424 | Manggar\n",
      "Processing Record 425 | Itaituba\n",
      "Processing Record 426 | Guerrero Negro\n",
      "Processing Record 427 | Jalu\n",
      "City not found. Skipping...\n",
      "Processing Record 428 | Tombouctou\n",
      "Processing Record 429 | Yulara\n",
      "Processing Record 430 | Yur’yev-Pol’skiy\n",
      "Processing Record 431 | Tanabe\n",
      "Processing Record 432 | Acaraú\n",
      "Processing Record 433 | Selma\n",
      "Processing Record 434 | Ketchikan\n",
      "Processing Record 435 | Garissa\n",
      "Processing Record 436 | Corn Island\n",
      "Processing Record 437 | Zhigansk\n",
      "Processing Record 438 | Nerchinskiy Zavod\n",
      "Processing Record 439 | Visby\n",
      "Processing Record 440 | Novochernorechenskiy\n",
      "Processing Record 441 | Balabac\n",
      "Processing Record 442 | Lao Cai\n",
      "Processing Record 443 | Obo\n",
      "Processing Record 444 | City of Banjul\n",
      "Processing Record 445 | Blanquefort\n",
      "Processing Record 446 | Pecos\n",
      "Processing Record 447 | Hambantota\n",
      "Processing Record 448 | Pacifica\n",
      "Processing Record 449 | Esim\n",
      "Processing Record 450 | Menongue\n",
      "Processing Record 451 | Kafue\n",
      "Processing Record 452 | Bǝrdǝ\n",
      "Processing Record 453 | Platteville\n",
      "Processing Record 454 | Stutterheim\n",
      "Processing Record 455 | Tucumã\n",
      "Processing Record 456 | Mahanoro\n",
      "Processing Record 457 | Kalabo\n",
      "Processing Record 458 | Pandan\n",
      "Processing Record 459 | Kieta\n",
      "Processing Record 460 | Ahipara\n",
      "Processing Record 461 | Chapais\n",
      "City not found. Skipping...\n",
      "Processing Record 462 | Piaçabuçu\n",
      "Processing Record 463 | Bakel\n",
      "Processing Record 464 | Maţāy\n",
      "Processing Record 465 | Tsybli\n",
      "Processing Record 466 | Kangaatsiaq\n",
      "Processing Record 467 | Isiro\n",
      "Processing Record 468 | Nísia Floresta\n",
      "Processing Record 469 | Davila\n"
     ]
    },
    {
     "name": "stdout",
     "output_type": "stream",
     "text": [
      "Processing Record 470 | Xinqing\n",
      "Processing Record 471 | Inverell\n",
      "City not found. Skipping...\n",
      "Processing Record 472 | Severoural'sk\n",
      "Processing Record 473 | Sabaudia\n",
      "Processing Record 474 | Gambēla\n",
      "Processing Record 475 | Srednekolymsk\n",
      "Processing Record 476 | Poyarkovo\n",
      "Processing Record 477 | Bemidji\n",
      "Processing Record 478 | Emba\n",
      "City not found. Skipping...\n",
      "Processing Record 479 | Amudat\n",
      "Processing Record 480 | Sitka\n",
      "Processing Record 481 | Pochutla\n",
      "Processing Record 482 | Banda Aceh\n",
      "Processing Record 483 | Kaeo\n",
      "Processing Record 484 | Inta\n",
      "Processing Record 485 | Ciudad Ojeda\n",
      "Processing Record 486 | Pemangkat\n",
      "City not found. Skipping...\n",
      "Processing Record 487 | Daru\n",
      "Processing Record 488 | Madimba\n",
      "Processing Record 489 | Salinópolis\n",
      "Processing Record 490 | Skibbereen\n",
      "Processing Record 491 | Bowen\n",
      "Processing Record 492 | Katsuura\n",
      "Processing Record 493 | Bandrele\n",
      "Processing Record 494 | Arbeláez\n",
      "Processing Record 495 | Eirunepé\n",
      "Processing Record 496 | Coahuayana Viejo\n",
      "Processing Record 497 | Jardim\n",
      "Processing Record 498 | La Ronge\n",
      "Processing Record 499 | Palm Coast\n",
      "Processing Record 500 | Vila Franca do Campo\n",
      "Processing Record 501 | Phon Thong\n",
      "City not found. Skipping...\n",
      "Processing Record 502 | Santa Vitória do Palmar\n",
      "City not found. Skipping...\n",
      "Processing Record 503 | Mae Hong Son\n",
      "Processing Record 504 | Mabaruma\n",
      "Processing Record 505 | Kenora\n",
      "Processing Record 506 | Rocha\n",
      "Processing Record 507 | Taywarah\n",
      "Processing Record 508 | Fes\n",
      "City not found. Skipping...\n",
      "Processing Record 509 | Newton\n",
      "Processing Record 510 | Suez\n",
      "Processing Record 511 | Gacko\n",
      "Processing Record 512 | Ulladulla\n",
      "Processing Record 513 | Nemuro\n",
      "Processing Record 514 | San Angelo\n",
      "Processing Record 515 | Pordim\n",
      "Processing Record 516 | Tomohon\n",
      "Processing Record 517 | Norsup\n",
      "Processing Record 518 | Rādhanpur\n",
      "Processing Record 519 | Barrhead\n",
      "Processing Record 520 | Voh\n",
      "Processing Record 521 | Fortuna Foothills\n",
      "Processing Record 522 | Bergen\n",
      "Processing Record 523 | Lakhtinskiy\n",
      "Processing Record 524 | Port Keats\n",
      "Processing Record 525 | Pangnirtung\n",
      "Processing Record 526 | Atherton\n",
      "Processing Record 527 | Buin\n",
      "Processing Record 528 | Acurenam\n",
      "Processing Record 529 | La Palma\n",
      "Processing Record 530 | Charlottetown\n",
      "Processing Record 531 | Kasongo-Lunda\n",
      "Processing Record 532 | Quimper\n",
      "Processing Record 533 | Caucaia\n",
      "City not found. Skipping...\n",
      "Processing Record 534 | Yunyang\n",
      "Processing Record 535 | Conde\n",
      "Processing Record 536 | Teknāf\n",
      "Processing Record 537 | Vilyuysk\n",
      "Processing Record 538 | San Miguel de Tucumán\n",
      "Processing Record 539 | Bukachacha\n",
      "City not found. Skipping...\n",
      "Processing Record 540 | Bom Jesus da Lapa\n",
      "Processing Record 541 | Taksimo\n",
      "Processing Record 542 | Camaná\n",
      "Processing Record 543 | San Juan\n",
      "Processing Record 544 | Nurota\n",
      "Processing Record 545 | Savonlinna\n",
      "Processing Record 546 | Ballina\n",
      "Processing Record 547 | Puerto Suárez\n",
      "Processing Record 548 | Kropotkin\n",
      "City not found. Skipping...\n",
      "Processing Record 549 | Meadville\n",
      "Processing Record 550 | Forsytheganj\n",
      "Processing Record 551 | Nantucket\n",
      "City not found. Skipping...\n",
      "Processing Record 552 | Tefé\n",
      "Processing Record 553 | Basco\n",
      "Processing Record 554 | Shitanjing\n",
      "Processing Record 555 | Bo Phloi\n",
      "Processing Record 556 | Birao\n",
      "-------------------------------\n",
      "Data Retrieval Complete\n",
      "-------------------------------\n"
     ]
    }
   ],
   "source": [
    "# Set Up Lists to Hold Reponse Info\n",
    "city_name = []\n",
    "latitude = []\n",
    "longitude = []\n",
    "max_temperature = []\n",
    "humidity = []\n",
    "cloudiness = []\n",
    "wind_speed = []\n",
    "country = []\n",
    "date = []\n",
    "\n",
    "# Processing Record Counter Starting a 1\n",
    "processing_record = 1\n",
    "\n",
    "# Print Starting Log Statement\n",
    "print(f\"Beginning Data Retrieval\")\n",
    "print(f\"-------------------------------\")\n",
    "\n",
    "# Loop Through List of Cities & Perform a Request for Data on Each\n",
    "for city in cities:\n",
    "\n",
    "# Exception Handling\n",
    "    try:\n",
    "        response = requests.get(query_url + city).json()\n",
    "        city_name.append(response[\"name\"])\n",
    "        country.append(response[\"sys\"][\"country\"])\n",
    "        date.append(response[\"dt\"])\n",
    "        latitude.append(response[\"coord\"][\"lat\"])\n",
    "        longitude.append(response[\"coord\"][\"lon\"])\n",
    "        max_temperature.append(response[\"main\"][\"temp_max\"])\n",
    "        humidity.append(response[\"main\"][\"humidity\"])\n",
    "        cloudiness.append(response[\"clouds\"][\"all\"])\n",
    "        wind_speed.append(response[\"wind\"][\"speed\"])\n",
    "        city_record = response[\"name\"]\n",
    "        print(f\"Processing Record {processing_record} | {city_record}\")\n",
    "        \n",
    "        # Increase Processing Record Counter by 1 For Each Loop\n",
    "        processing_record += 1\n",
    "        \n",
    "    except:\n",
    "        print(\"City not found. Skipping...\") \n",
    "    continue\n",
    "\n",
    "# Print Ending Log Statement\n",
    "print(f\"-------------------------------\")\n",
    "print(f\"Data Retrieval Complete\")\n",
    "print(f\"-------------------------------\")"
   ]
  },
  {
   "cell_type": "markdown",
   "metadata": {},
   "source": [
    "### Convert Raw Data to DataFrame\n",
    "* Export the city data into a .csv.\n",
    "* Display the DataFrame"
   ]
  },
  {
   "cell_type": "code",
   "execution_count": 128,
   "metadata": {},
   "outputs": [
    {
     "data": {
      "text/plain": [
       "city          556\n",
       "Lat           556\n",
       "Lng           556\n",
       "Max Temp      556\n",
       "Humidity      556\n",
       "Cloudiness    556\n",
       "Wind Speed    556\n",
       "Country       556\n",
       "Date          556\n",
       "dtype: int64"
      ]
     },
     "execution_count": 128,
     "metadata": {},
     "output_type": "execute_result"
    }
   ],
   "source": [
    "weather_dict = {\n",
    "    \"city\": city_name,\n",
    "    \"Lat\": latitude,\n",
    "    \"Lng\": longitude,\n",
    "    \"Max Temp\": max_temperature,\n",
    "    \"Humidity\": humidity,\n",
    "    \"Cloudiness\": cloudiness,\n",
    "    \"Wind Speed\": wind_speed,\n",
    "    \"Country\": country,\n",
    "    \"Date\": date\n",
    "    }\n",
    "\n",
    "weather_data = pd.DataFrame(weather_dict)\n",
    "weather_data.count()"
   ]
  },
  {
   "cell_type": "code",
   "execution_count": 129,
   "metadata": {},
   "outputs": [
    {
     "data": {
      "text/html": [
       "<div>\n",
       "<style scoped>\n",
       "    .dataframe tbody tr th:only-of-type {\n",
       "        vertical-align: middle;\n",
       "    }\n",
       "\n",
       "    .dataframe tbody tr th {\n",
       "        vertical-align: top;\n",
       "    }\n",
       "\n",
       "    .dataframe thead th {\n",
       "        text-align: right;\n",
       "    }\n",
       "</style>\n",
       "<table border=\"1\" class=\"dataframe\">\n",
       "  <thead>\n",
       "    <tr style=\"text-align: right;\">\n",
       "      <th></th>\n",
       "      <th>city</th>\n",
       "      <th>Lat</th>\n",
       "      <th>Lng</th>\n",
       "      <th>Max Temp</th>\n",
       "      <th>Humidity</th>\n",
       "      <th>Cloudiness</th>\n",
       "      <th>Wind Speed</th>\n",
       "      <th>Country</th>\n",
       "      <th>Date</th>\n",
       "    </tr>\n",
       "  </thead>\n",
       "  <tbody>\n",
       "    <tr>\n",
       "      <th>0</th>\n",
       "      <td>Albany</td>\n",
       "      <td>42.60</td>\n",
       "      <td>-73.97</td>\n",
       "      <td>55.0</td>\n",
       "      <td>85</td>\n",
       "      <td>100</td>\n",
       "      <td>3.65</td>\n",
       "      <td>US</td>\n",
       "      <td>1603247716</td>\n",
       "    </tr>\n",
       "    <tr>\n",
       "      <th>1</th>\n",
       "      <td>Norman Wells</td>\n",
       "      <td>65.28</td>\n",
       "      <td>-126.83</td>\n",
       "      <td>23.0</td>\n",
       "      <td>85</td>\n",
       "      <td>90</td>\n",
       "      <td>16.11</td>\n",
       "      <td>CA</td>\n",
       "      <td>1603247906</td>\n",
       "    </tr>\n",
       "    <tr>\n",
       "      <th>2</th>\n",
       "      <td>Geraldton</td>\n",
       "      <td>-28.77</td>\n",
       "      <td>114.60</td>\n",
       "      <td>69.8</td>\n",
       "      <td>60</td>\n",
       "      <td>75</td>\n",
       "      <td>17.22</td>\n",
       "      <td>AU</td>\n",
       "      <td>1603247779</td>\n",
       "    </tr>\n",
       "    <tr>\n",
       "      <th>3</th>\n",
       "      <td>Carbonia</td>\n",
       "      <td>39.17</td>\n",
       "      <td>8.52</td>\n",
       "      <td>66.2</td>\n",
       "      <td>77</td>\n",
       "      <td>20</td>\n",
       "      <td>16.11</td>\n",
       "      <td>IT</td>\n",
       "      <td>1603247907</td>\n",
       "    </tr>\n",
       "    <tr>\n",
       "      <th>4</th>\n",
       "      <td>Bathsheba</td>\n",
       "      <td>13.22</td>\n",
       "      <td>-59.52</td>\n",
       "      <td>82.4</td>\n",
       "      <td>78</td>\n",
       "      <td>40</td>\n",
       "      <td>8.05</td>\n",
       "      <td>BB</td>\n",
       "      <td>1603247907</td>\n",
       "    </tr>\n",
       "  </tbody>\n",
       "</table>\n",
       "</div>"
      ],
      "text/plain": [
       "           city    Lat     Lng  Max Temp  Humidity  Cloudiness  Wind Speed  \\\n",
       "0        Albany  42.60  -73.97      55.0        85         100        3.65   \n",
       "1  Norman Wells  65.28 -126.83      23.0        85          90       16.11   \n",
       "2     Geraldton -28.77  114.60      69.8        60          75       17.22   \n",
       "3      Carbonia  39.17    8.52      66.2        77          20       16.11   \n",
       "4     Bathsheba  13.22  -59.52      82.4        78          40        8.05   \n",
       "\n",
       "  Country        Date  \n",
       "0      US  1603247716  \n",
       "1      CA  1603247906  \n",
       "2      AU  1603247779  \n",
       "3      IT  1603247907  \n",
       "4      BB  1603247907  "
      ]
     },
     "execution_count": 129,
     "metadata": {},
     "output_type": "execute_result"
    }
   ],
   "source": [
    "# Display the dataframe\n",
    "weather_data.head()"
   ]
  },
  {
   "cell_type": "code",
   "execution_count": 130,
   "metadata": {},
   "outputs": [],
   "source": [
    "# Export & save data into a .csv.\n",
    "weather_data.to_csv(\"./Data/weather_data.csv\")"
   ]
  },
  {
   "cell_type": "code",
   "execution_count": 131,
   "metadata": {},
   "outputs": [
    {
     "data": {
      "text/html": [
       "<div>\n",
       "<style scoped>\n",
       "    .dataframe tbody tr th:only-of-type {\n",
       "        vertical-align: middle;\n",
       "    }\n",
       "\n",
       "    .dataframe tbody tr th {\n",
       "        vertical-align: top;\n",
       "    }\n",
       "\n",
       "    .dataframe thead th {\n",
       "        text-align: right;\n",
       "    }\n",
       "</style>\n",
       "<table border=\"1\" class=\"dataframe\">\n",
       "  <thead>\n",
       "    <tr style=\"text-align: right;\">\n",
       "      <th></th>\n",
       "      <th>Lat</th>\n",
       "      <th>Lng</th>\n",
       "      <th>Max Temp</th>\n",
       "      <th>Humidity</th>\n",
       "      <th>Cloudiness</th>\n",
       "      <th>Wind Speed</th>\n",
       "      <th>Date</th>\n",
       "    </tr>\n",
       "  </thead>\n",
       "  <tbody>\n",
       "    <tr>\n",
       "      <th>count</th>\n",
       "      <td>556.000000</td>\n",
       "      <td>556.000000</td>\n",
       "      <td>556.000000</td>\n",
       "      <td>556.000000</td>\n",
       "      <td>556.000000</td>\n",
       "      <td>556.000000</td>\n",
       "      <td>5.560000e+02</td>\n",
       "    </tr>\n",
       "    <tr>\n",
       "      <th>mean</th>\n",
       "      <td>19.928525</td>\n",
       "      <td>19.174281</td>\n",
       "      <td>60.365360</td>\n",
       "      <td>74.480216</td>\n",
       "      <td>52.089928</td>\n",
       "      <td>7.432446</td>\n",
       "      <td>1.603248e+09</td>\n",
       "    </tr>\n",
       "    <tr>\n",
       "      <th>std</th>\n",
       "      <td>33.197504</td>\n",
       "      <td>91.723923</td>\n",
       "      <td>20.349602</td>\n",
       "      <td>20.116543</td>\n",
       "      <td>39.626534</td>\n",
       "      <td>5.043109</td>\n",
       "      <td>2.316689e+02</td>\n",
       "    </tr>\n",
       "    <tr>\n",
       "      <th>min</th>\n",
       "      <td>-54.800000</td>\n",
       "      <td>-179.170000</td>\n",
       "      <td>3.200000</td>\n",
       "      <td>11.000000</td>\n",
       "      <td>0.000000</td>\n",
       "      <td>0.250000</td>\n",
       "      <td>1.603247e+09</td>\n",
       "    </tr>\n",
       "    <tr>\n",
       "      <th>25%</th>\n",
       "      <td>-6.975000</td>\n",
       "      <td>-64.072500</td>\n",
       "      <td>45.345000</td>\n",
       "      <td>63.000000</td>\n",
       "      <td>6.000000</td>\n",
       "      <td>3.520000</td>\n",
       "      <td>1.603248e+09</td>\n",
       "    </tr>\n",
       "    <tr>\n",
       "      <th>50%</th>\n",
       "      <td>24.215000</td>\n",
       "      <td>24.790000</td>\n",
       "      <td>65.300000</td>\n",
       "      <td>79.500000</td>\n",
       "      <td>57.000000</td>\n",
       "      <td>6.275000</td>\n",
       "      <td>1.603248e+09</td>\n",
       "    </tr>\n",
       "    <tr>\n",
       "      <th>75%</th>\n",
       "      <td>48.050000</td>\n",
       "      <td>102.332500</td>\n",
       "      <td>77.000000</td>\n",
       "      <td>90.000000</td>\n",
       "      <td>90.000000</td>\n",
       "      <td>10.290000</td>\n",
       "      <td>1.603248e+09</td>\n",
       "    </tr>\n",
       "    <tr>\n",
       "      <th>max</th>\n",
       "      <td>78.220000</td>\n",
       "      <td>179.320000</td>\n",
       "      <td>98.600000</td>\n",
       "      <td>100.000000</td>\n",
       "      <td>100.000000</td>\n",
       "      <td>30.380000</td>\n",
       "      <td>1.603248e+09</td>\n",
       "    </tr>\n",
       "  </tbody>\n",
       "</table>\n",
       "</div>"
      ],
      "text/plain": [
       "              Lat         Lng    Max Temp    Humidity  Cloudiness  Wind Speed  \\\n",
       "count  556.000000  556.000000  556.000000  556.000000  556.000000  556.000000   \n",
       "mean    19.928525   19.174281   60.365360   74.480216   52.089928    7.432446   \n",
       "std     33.197504   91.723923   20.349602   20.116543   39.626534    5.043109   \n",
       "min    -54.800000 -179.170000    3.200000   11.000000    0.000000    0.250000   \n",
       "25%     -6.975000  -64.072500   45.345000   63.000000    6.000000    3.520000   \n",
       "50%     24.215000   24.790000   65.300000   79.500000   57.000000    6.275000   \n",
       "75%     48.050000  102.332500   77.000000   90.000000   90.000000   10.290000   \n",
       "max     78.220000  179.320000   98.600000  100.000000  100.000000   30.380000   \n",
       "\n",
       "               Date  \n",
       "count  5.560000e+02  \n",
       "mean   1.603248e+09  \n",
       "std    2.316689e+02  \n",
       "min    1.603247e+09  \n",
       "25%    1.603248e+09  \n",
       "50%    1.603248e+09  \n",
       "75%    1.603248e+09  \n",
       "max    1.603248e+09  "
      ]
     },
     "execution_count": 131,
     "metadata": {},
     "output_type": "execute_result"
    }
   ],
   "source": [
    "# Display key statistics of the dataframe\n",
    "weather_data.describe()"
   ]
  },
  {
   "cell_type": "markdown",
   "metadata": {},
   "source": [
    "## Inspect the data and remove the cities where the humidity > 100%.\n",
    "----\n",
    "Skip this step if there are no cities that have humidity > 100%. "
   ]
  },
  {
   "cell_type": "code",
   "execution_count": 132,
   "metadata": {},
   "outputs": [],
   "source": [
    "# Based on the max row, there are no cities where the humidity is > 100%"
   ]
  },
  {
   "cell_type": "markdown",
   "metadata": {},
   "source": [
    "## Plotting the Data\n",
    "* Use proper labeling of the plots using plot titles (including date of analysis) and axes labels.\n",
    "* Save the plotted figures as .pngs."
   ]
  },
  {
   "cell_type": "markdown",
   "metadata": {},
   "source": [
    "## Latitude vs. Temperature Plot"
   ]
  },
  {
   "cell_type": "code",
   "execution_count": 133,
   "metadata": {
    "scrolled": true
   },
   "outputs": [
    {
     "data": {
      "image/png": "[encoded data removed]",
      "text/plain": [
       "<Figure size 432x288 with 1 Axes>"
      ]
     },
     "metadata": {
      "needs_background": "light"
     },
     "output_type": "display_data"
    }
   ],
   "source": [
    "# Build Scatter Plot for Each Data Type\n",
    "plt.scatter(weather_data[\"Lat\"], weather_data[\"Max Temp\"], facecolors=\"blue\", marker=\"o\", edgecolor=\"black\")\n",
    "\n",
    "# Incorporate Other Graph Properties\n",
    "plt.title(\"City Latitude vs. Max Temperature (10/18/2020)\")\n",
    "plt.ylabel(\"Max Temperature (°F)\")\n",
    "plt.xlabel(\"Latitude\")\n",
    "plt.grid(True)\n",
    "\n",
    "# Save Figure\n",
    "plt.savefig(\"./Data/City_Latitude_vs_Max_Temperature.png\")\n",
    "\n",
    "# Show Plot\n",
    "plt.show()"
   ]
  },
  {
   "cell_type": "markdown",
   "metadata": {},
   "source": [
    "The code is showing a scatterplot of the various max temperatures based on the latitude of the city randomly selected. As latitude approaches 0 (the equater) the temperature increases."
   ]
  },
  {
   "cell_type": "markdown",
   "metadata": {},
   "source": [
    "## Latitude vs. Humidity Plot"
   ]
  },
  {
   "cell_type": "code",
   "execution_count": 134,
   "metadata": {},
   "outputs": [
    {
     "data": {
      "image/png": "[encoded data removed]",
      "text/plain": [
       "<Figure size 432x288 with 1 Axes>"
      ]
     },
     "metadata": {
      "needs_background": "light"
     },
     "output_type": "display_data"
    }
   ],
   "source": [
    "# Build Scatter Plot for Each Data Type\n",
    "plt.scatter(weather_data[\"Lat\"], weather_data[\"Humidity\"], facecolors=\"red\", marker=\"o\", edgecolor=\"black\")\n",
    "\n",
    "# Incorporate Other Graph Properties\n",
    "plt.title(\"City Latitude vs. Humidity (10/18/2020)\")\n",
    "plt.ylabel(\"Humidity (%)\")\n",
    "plt.xlabel(\"Latitude\")\n",
    "plt.grid(True)\n",
    "\n",
    "# Save Figure\n",
    "plt.savefig(\"./Data/City_Latitude_vs_Humidity.png\")\n",
    "\n",
    "# Show Plot\n",
    "plt.show()"
   ]
  },
  {
   "cell_type": "markdown",
   "metadata": {},
   "source": [
    "The code is showing a scatterplot of the various humidities based on the latitude of the city randomly selected."
   ]
  },
  {
   "cell_type": "markdown",
   "metadata": {},
   "source": [
    "## Latitude vs. Cloudiness Plot"
   ]
  },
  {
   "cell_type": "code",
   "execution_count": 135,
   "metadata": {},
   "outputs": [
    {
     "data": {
      "image/png": "[encoded data removed]",
      "text/plain": [
       "<Figure size 432x288 with 1 Axes>"
      ]
     },
     "metadata": {
      "needs_background": "light"
     },
     "output_type": "display_data"
    }
   ],
   "source": [
    "# Build Scatter Plot for Each Data Type\n",
    "plt.scatter(weather_data[\"Lat\"], weather_data[\"Humidity\"], facecolors=\"green\", marker=\"o\", edgecolor=\"black\")\n",
    "\n",
    "# Incorporate Other Graph Properties\n",
    "plt.title(\"City Latitude vs. Cloudiness (10/18/2020)\")\n",
    "plt.ylabel(\"Cloudiness(%)\")\n",
    "plt.xlabel(\"Latitude\")\n",
    "plt.grid(True)\n",
    "\n",
    "# Save Figure\n",
    "plt.savefig(\"./Data/City_Latitude_vs_Cloudiness.png\")\n",
    "\n",
    "# Show Plot\n",
    "plt.show()"
   ]
  },
  {
   "cell_type": "markdown",
   "metadata": {},
   "source": [
    "The code is showing a scatterplot of cloudiness around a city based on the latitude of the city randomly selected."
   ]
  },
  {
   "cell_type": "markdown",
   "metadata": {},
   "source": [
    "## Latitude vs. Wind Speed Plot"
   ]
  },
  {
   "cell_type": "code",
   "execution_count": 136,
   "metadata": {},
   "outputs": [
    {
     "data": {
      "image/png": "[encoded data removed]",
      "text/plain": [
       "<Figure size 432x288 with 1 Axes>"
      ]
     },
     "metadata": {
      "needs_background": "light"
     },
     "output_type": "display_data"
    }
   ],
   "source": [
    "# Build Scatter Plot for Each Data Type\n",
    "plt.scatter(weather_data[\"Lat\"], weather_data[\"Wind Speed\"], facecolors=\"orange\", marker=\"o\", edgecolor=\"black\")\n",
    "\n",
    "# Incorporate Other Graph Properties\n",
    "plt.title(\"City Latitude vs. Wind Speed (10/18/2020)\")\n",
    "plt.ylabel(\"Wind Speed (mph)\")\n",
    "plt.xlabel(\"Latitude\")\n",
    "plt.grid(True)\n",
    "\n",
    "# Save Figure\n",
    "plt.savefig(\"./Data/City_Latitude_vs_Wind_Speed.png\")\n",
    "\n",
    "# Show Plot\n",
    "plt.show()"
   ]
  },
  {
   "cell_type": "markdown",
   "metadata": {},
   "source": [
    "The code is showing a scatterplot of the various wind speeds based on the latitude of the city randomly selected."
   ]
  },
  {
   "cell_type": "markdown",
   "metadata": {},
   "source": [
    "## Linear Regression"
   ]
  },
  {
   "cell_type": "markdown",
   "metadata": {},
   "source": [
    "Your second requirement is to run linear regression on each relationship, only this time separating them into Northern Hemisphere (greater than or equal to 0 degrees latitude) and Southern Hemisphere (less than 0 degrees latitude):\n",
    "\n",
    "* Northern Hemisphere - Temperature (F) vs. Latitude\n",
    "* Southern Hemisphere - Temperature (F) vs. Latitude\n",
    "* Northern Hemisphere - Humidity (%) vs. Latitude\n",
    "* Southern Hemisphere - Humidity (%) vs. Latitude\n",
    "* Northern Hemisphere - Cloudiness (%) vs. Latitude\n",
    "* Southern Hemisphere - Cloudiness (%) vs. Latitude\n",
    "* Northern Hemisphere - Wind Speed (mph) vs. Latitude\n",
    "* Southern Hemisphere - Wind Speed (mph) vs. Latitude\n",
    "\n",
    "After each pair of plots explain what the linear regression is modeling such as any relationships you notice and any other analysis you may have."
   ]
  },
  {
   "cell_type": "code",
   "execution_count": 137,
   "metadata": {},
   "outputs": [],
   "source": [
    "# Define plotting function:\n",
    "def plot_linear_regression(x_values, y_values, title, text_coordinates):\n",
    "    (slope, intercept, rvalue, pvalue, stderr) = linregress(x_values, y_values)\n",
    "    regress_values = x_values * slope + intercept\n",
    "    line_eq = \"y = \" + str(round(slope,2)) + \"x + \" + str(round(intercept,2))\n",
    "    \n",
    "    plt.scatter(x_values,y_values)\n",
    "    plt.plot(x_values,regress_values,\"r-\")\n",
    "    plt.annotate(line_eq,text_coordinates,fontsize=14,color=\"red\")\n",
    "    plt.xlabel(\"Latitude\")\n",
    "    plt.ylabel(title)\n",
    "    print(f\"The r-squared is: {rvalue}\")\n",
    "    plt.show()"
   ]
  },
  {
   "cell_type": "code",
   "execution_count": 138,
   "metadata": {},
   "outputs": [],
   "source": [
    "# Create Northern and Southern Hemisphere DataFrames\n",
    "northlat_df = weather_data.loc[weather_data[\"Lat\"] >= 0,:]\n",
    "southlat_df = weather_data.loc[weather_data[\"Lat\"] < 0,:]"
   ]
  },
  {
   "cell_type": "code",
   "execution_count": 139,
   "metadata": {},
   "outputs": [
    {
     "data": {
      "text/html": [
       "<div>\n",
       "<style scoped>\n",
       "    .dataframe tbody tr th:only-of-type {\n",
       "        vertical-align: middle;\n",
       "    }\n",
       "\n",
       "    .dataframe tbody tr th {\n",
       "        vertical-align: top;\n",
       "    }\n",
       "\n",
       "    .dataframe thead th {\n",
       "        text-align: right;\n",
       "    }\n",
       "</style>\n",
       "<table border=\"1\" class=\"dataframe\">\n",
       "  <thead>\n",
       "    <tr style=\"text-align: right;\">\n",
       "      <th></th>\n",
       "      <th>city</th>\n",
       "      <th>Lat</th>\n",
       "      <th>Lng</th>\n",
       "      <th>Max Temp</th>\n",
       "      <th>Humidity</th>\n",
       "      <th>Cloudiness</th>\n",
       "      <th>Wind Speed</th>\n",
       "      <th>Country</th>\n",
       "      <th>Date</th>\n",
       "    </tr>\n",
       "  </thead>\n",
       "  <tbody>\n",
       "    <tr>\n",
       "      <th>0</th>\n",
       "      <td>Albany</td>\n",
       "      <td>42.60</td>\n",
       "      <td>-73.97</td>\n",
       "      <td>55.00</td>\n",
       "      <td>85</td>\n",
       "      <td>100</td>\n",
       "      <td>3.65</td>\n",
       "      <td>US</td>\n",
       "      <td>1603247716</td>\n",
       "    </tr>\n",
       "    <tr>\n",
       "      <th>1</th>\n",
       "      <td>Norman Wells</td>\n",
       "      <td>65.28</td>\n",
       "      <td>-126.83</td>\n",
       "      <td>23.00</td>\n",
       "      <td>85</td>\n",
       "      <td>90</td>\n",
       "      <td>16.11</td>\n",
       "      <td>CA</td>\n",
       "      <td>1603247906</td>\n",
       "    </tr>\n",
       "    <tr>\n",
       "      <th>3</th>\n",
       "      <td>Carbonia</td>\n",
       "      <td>39.17</td>\n",
       "      <td>8.52</td>\n",
       "      <td>66.20</td>\n",
       "      <td>77</td>\n",
       "      <td>20</td>\n",
       "      <td>16.11</td>\n",
       "      <td>IT</td>\n",
       "      <td>1603247907</td>\n",
       "    </tr>\n",
       "    <tr>\n",
       "      <th>4</th>\n",
       "      <td>Bathsheba</td>\n",
       "      <td>13.22</td>\n",
       "      <td>-59.52</td>\n",
       "      <td>82.40</td>\n",
       "      <td>78</td>\n",
       "      <td>40</td>\n",
       "      <td>8.05</td>\n",
       "      <td>BB</td>\n",
       "      <td>1603247907</td>\n",
       "    </tr>\n",
       "    <tr>\n",
       "      <th>5</th>\n",
       "      <td>Tigil'</td>\n",
       "      <td>57.80</td>\n",
       "      <td>158.67</td>\n",
       "      <td>39.88</td>\n",
       "      <td>72</td>\n",
       "      <td>16</td>\n",
       "      <td>9.89</td>\n",
       "      <td>RU</td>\n",
       "      <td>1603247907</td>\n",
       "    </tr>\n",
       "    <tr>\n",
       "      <th>6</th>\n",
       "      <td>Chokurdakh</td>\n",
       "      <td>70.63</td>\n",
       "      <td>147.92</td>\n",
       "      <td>8.89</td>\n",
       "      <td>96</td>\n",
       "      <td>61</td>\n",
       "      <td>4.79</td>\n",
       "      <td>RU</td>\n",
       "      <td>1603247703</td>\n",
       "    </tr>\n",
       "    <tr>\n",
       "      <th>7</th>\n",
       "      <td>Ndélé</td>\n",
       "      <td>8.41</td>\n",
       "      <td>20.65</td>\n",
       "      <td>71.11</td>\n",
       "      <td>88</td>\n",
       "      <td>100</td>\n",
       "      <td>2.17</td>\n",
       "      <td>CF</td>\n",
       "      <td>1603247907</td>\n",
       "    </tr>\n",
       "    <tr>\n",
       "      <th>8</th>\n",
       "      <td>Torbay</td>\n",
       "      <td>47.67</td>\n",
       "      <td>-52.73</td>\n",
       "      <td>59.00</td>\n",
       "      <td>93</td>\n",
       "      <td>75</td>\n",
       "      <td>19.46</td>\n",
       "      <td>CA</td>\n",
       "      <td>1603247907</td>\n",
       "    </tr>\n",
       "    <tr>\n",
       "      <th>9</th>\n",
       "      <td>Avera</td>\n",
       "      <td>33.19</td>\n",
       "      <td>-82.53</td>\n",
       "      <td>68.00</td>\n",
       "      <td>94</td>\n",
       "      <td>1</td>\n",
       "      <td>4.70</td>\n",
       "      <td>US</td>\n",
       "      <td>1603247317</td>\n",
       "    </tr>\n",
       "    <tr>\n",
       "      <th>11</th>\n",
       "      <td>Severo-Kuril'sk</td>\n",
       "      <td>50.68</td>\n",
       "      <td>156.12</td>\n",
       "      <td>42.48</td>\n",
       "      <td>65</td>\n",
       "      <td>62</td>\n",
       "      <td>30.38</td>\n",
       "      <td>RU</td>\n",
       "      <td>1603247538</td>\n",
       "    </tr>\n",
       "    <tr>\n",
       "      <th>13</th>\n",
       "      <td>Guadalupe y Calvo</td>\n",
       "      <td>26.10</td>\n",
       "      <td>-106.97</td>\n",
       "      <td>54.03</td>\n",
       "      <td>90</td>\n",
       "      <td>0</td>\n",
       "      <td>4.99</td>\n",
       "      <td>MX</td>\n",
       "      <td>1603247908</td>\n",
       "    </tr>\n",
       "    <tr>\n",
       "      <th>15</th>\n",
       "      <td>Jamestown</td>\n",
       "      <td>42.10</td>\n",
       "      <td>-79.24</td>\n",
       "      <td>48.99</td>\n",
       "      <td>100</td>\n",
       "      <td>90</td>\n",
       "      <td>5.82</td>\n",
       "      <td>US</td>\n",
       "      <td>1603247521</td>\n",
       "    </tr>\n",
       "    <tr>\n",
       "      <th>17</th>\n",
       "      <td>Saskylakh</td>\n",
       "      <td>71.92</td>\n",
       "      <td>114.08</td>\n",
       "      <td>19.78</td>\n",
       "      <td>97</td>\n",
       "      <td>91</td>\n",
       "      <td>8.52</td>\n",
       "      <td>RU</td>\n",
       "      <td>1603247307</td>\n",
       "    </tr>\n",
       "    <tr>\n",
       "      <th>19</th>\n",
       "      <td>Atbasar</td>\n",
       "      <td>51.80</td>\n",
       "      <td>68.33</td>\n",
       "      <td>46.29</td>\n",
       "      <td>47</td>\n",
       "      <td>100</td>\n",
       "      <td>7.65</td>\n",
       "      <td>KZ</td>\n",
       "      <td>1603247909</td>\n",
       "    </tr>\n",
       "    <tr>\n",
       "      <th>21</th>\n",
       "      <td>Tuktoyaktuk</td>\n",
       "      <td>69.45</td>\n",
       "      <td>-133.04</td>\n",
       "      <td>23.00</td>\n",
       "      <td>92</td>\n",
       "      <td>90</td>\n",
       "      <td>17.22</td>\n",
       "      <td>CA</td>\n",
       "      <td>1603247309</td>\n",
       "    </tr>\n",
       "  </tbody>\n",
       "</table>\n",
       "</div>"
      ],
      "text/plain": [
       "                 city    Lat     Lng  Max Temp  Humidity  Cloudiness  \\\n",
       "0              Albany  42.60  -73.97     55.00        85         100   \n",
       "1        Norman Wells  65.28 -126.83     23.00        85          90   \n",
       "3            Carbonia  39.17    8.52     66.20        77          20   \n",
       "4           Bathsheba  13.22  -59.52     82.40        78          40   \n",
       "5              Tigil'  57.80  158.67     39.88        72          16   \n",
       "6          Chokurdakh  70.63  147.92      8.89        96          61   \n",
       "7               Ndélé   8.41   20.65     71.11        88         100   \n",
       "8              Torbay  47.67  -52.73     59.00        93          75   \n",
       "9               Avera  33.19  -82.53     68.00        94           1   \n",
       "11    Severo-Kuril'sk  50.68  156.12     42.48        65          62   \n",
       "13  Guadalupe y Calvo  26.10 -106.97     54.03        90           0   \n",
       "15          Jamestown  42.10  -79.24     48.99       100          90   \n",
       "17          Saskylakh  71.92  114.08     19.78        97          91   \n",
       "19            Atbasar  51.80   68.33     46.29        47         100   \n",
       "21        Tuktoyaktuk  69.45 -133.04     23.00        92          90   \n",
       "\n",
       "    Wind Speed Country        Date  \n",
       "0         3.65      US  1603247716  \n",
       "1        16.11      CA  1603247906  \n",
       "3        16.11      IT  1603247907  \n",
       "4         8.05      BB  1603247907  \n",
       "5         9.89      RU  1603247907  \n",
       "6         4.79      RU  1603247703  \n",
       "7         2.17      CF  1603247907  \n",
       "8        19.46      CA  1603247907  \n",
       "9         4.70      US  1603247317  \n",
       "11       30.38      RU  1603247538  \n",
       "13        4.99      MX  1603247908  \n",
       "15        5.82      US  1603247521  \n",
       "17        8.52      RU  1603247307  \n",
       "19        7.65      KZ  1603247909  \n",
       "21       17.22      CA  1603247309  "
      ]
     },
     "execution_count": 139,
     "metadata": {},
     "output_type": "execute_result"
    }
   ],
   "source": [
    "# Display the Northern Hemisphere Dataframe\n",
    "northlat_df.head(15)"
   ]
  },
  {
   "cell_type": "code",
   "execution_count": 140,
   "metadata": {},
   "outputs": [
    {
     "data": {
      "text/html": [
       "<div>\n",
       "<style scoped>\n",
       "    .dataframe tbody tr th:only-of-type {\n",
       "        vertical-align: middle;\n",
       "    }\n",
       "\n",
       "    .dataframe tbody tr th {\n",
       "        vertical-align: top;\n",
       "    }\n",
       "\n",
       "    .dataframe thead th {\n",
       "        text-align: right;\n",
       "    }\n",
       "</style>\n",
       "<table border=\"1\" class=\"dataframe\">\n",
       "  <thead>\n",
       "    <tr style=\"text-align: right;\">\n",
       "      <th></th>\n",
       "      <th>city</th>\n",
       "      <th>Lat</th>\n",
       "      <th>Lng</th>\n",
       "      <th>Max Temp</th>\n",
       "      <th>Humidity</th>\n",
       "      <th>Cloudiness</th>\n",
       "      <th>Wind Speed</th>\n",
       "      <th>Country</th>\n",
       "      <th>Date</th>\n",
       "    </tr>\n",
       "  </thead>\n",
       "  <tbody>\n",
       "    <tr>\n",
       "      <th>2</th>\n",
       "      <td>Geraldton</td>\n",
       "      <td>-28.77</td>\n",
       "      <td>114.60</td>\n",
       "      <td>69.80</td>\n",
       "      <td>60</td>\n",
       "      <td>75</td>\n",
       "      <td>17.22</td>\n",
       "      <td>AU</td>\n",
       "      <td>1603247779</td>\n",
       "    </tr>\n",
       "    <tr>\n",
       "      <th>10</th>\n",
       "      <td>Cape Town</td>\n",
       "      <td>-33.93</td>\n",
       "      <td>18.42</td>\n",
       "      <td>51.01</td>\n",
       "      <td>81</td>\n",
       "      <td>0</td>\n",
       "      <td>3.36</td>\n",
       "      <td>ZA</td>\n",
       "      <td>1603247534</td>\n",
       "    </tr>\n",
       "    <tr>\n",
       "      <th>12</th>\n",
       "      <td>Hermanus</td>\n",
       "      <td>-34.42</td>\n",
       "      <td>19.23</td>\n",
       "      <td>51.01</td>\n",
       "      <td>85</td>\n",
       "      <td>0</td>\n",
       "      <td>3.00</td>\n",
       "      <td>ZA</td>\n",
       "      <td>1603247224</td>\n",
       "    </tr>\n",
       "    <tr>\n",
       "      <th>14</th>\n",
       "      <td>Rikitea</td>\n",
       "      <td>-23.12</td>\n",
       "      <td>-134.97</td>\n",
       "      <td>73.92</td>\n",
       "      <td>76</td>\n",
       "      <td>28</td>\n",
       "      <td>9.62</td>\n",
       "      <td>PF</td>\n",
       "      <td>1603247453</td>\n",
       "    </tr>\n",
       "    <tr>\n",
       "      <th>16</th>\n",
       "      <td>Poum</td>\n",
       "      <td>-20.23</td>\n",
       "      <td>164.02</td>\n",
       "      <td>75.79</td>\n",
       "      <td>67</td>\n",
       "      <td>1</td>\n",
       "      <td>1.72</td>\n",
       "      <td>NC</td>\n",
       "      <td>1603247561</td>\n",
       "    </tr>\n",
       "    <tr>\n",
       "      <th>18</th>\n",
       "      <td>Castro</td>\n",
       "      <td>-24.79</td>\n",
       "      <td>-50.01</td>\n",
       "      <td>62.10</td>\n",
       "      <td>91</td>\n",
       "      <td>41</td>\n",
       "      <td>5.55</td>\n",
       "      <td>BR</td>\n",
       "      <td>1603247462</td>\n",
       "    </tr>\n",
       "    <tr>\n",
       "      <th>20</th>\n",
       "      <td>Bredasdorp</td>\n",
       "      <td>-34.53</td>\n",
       "      <td>20.04</td>\n",
       "      <td>41.00</td>\n",
       "      <td>93</td>\n",
       "      <td>0</td>\n",
       "      <td>2.24</td>\n",
       "      <td>ZA</td>\n",
       "      <td>1603247524</td>\n",
       "    </tr>\n",
       "    <tr>\n",
       "      <th>23</th>\n",
       "      <td>Cuamba</td>\n",
       "      <td>-14.80</td>\n",
       "      <td>36.54</td>\n",
       "      <td>73.17</td>\n",
       "      <td>53</td>\n",
       "      <td>10</td>\n",
       "      <td>5.32</td>\n",
       "      <td>MZ</td>\n",
       "      <td>1603247910</td>\n",
       "    </tr>\n",
       "    <tr>\n",
       "      <th>25</th>\n",
       "      <td>Santa Inês</td>\n",
       "      <td>-3.67</td>\n",
       "      <td>-45.38</td>\n",
       "      <td>77.09</td>\n",
       "      <td>79</td>\n",
       "      <td>26</td>\n",
       "      <td>6.33</td>\n",
       "      <td>BR</td>\n",
       "      <td>1603247910</td>\n",
       "    </tr>\n",
       "    <tr>\n",
       "      <th>27</th>\n",
       "      <td>New Norfolk</td>\n",
       "      <td>-42.78</td>\n",
       "      <td>147.06</td>\n",
       "      <td>68.00</td>\n",
       "      <td>53</td>\n",
       "      <td>97</td>\n",
       "      <td>1.01</td>\n",
       "      <td>AU</td>\n",
       "      <td>1603247527</td>\n",
       "    </tr>\n",
       "    <tr>\n",
       "      <th>28</th>\n",
       "      <td>Port Elizabeth</td>\n",
       "      <td>-33.92</td>\n",
       "      <td>25.57</td>\n",
       "      <td>50.00</td>\n",
       "      <td>87</td>\n",
       "      <td>7</td>\n",
       "      <td>2.24</td>\n",
       "      <td>ZA</td>\n",
       "      <td>1603247265</td>\n",
       "    </tr>\n",
       "    <tr>\n",
       "      <th>30</th>\n",
       "      <td>Pisco</td>\n",
       "      <td>-13.70</td>\n",
       "      <td>-76.22</td>\n",
       "      <td>64.00</td>\n",
       "      <td>82</td>\n",
       "      <td>3</td>\n",
       "      <td>12.75</td>\n",
       "      <td>PE</td>\n",
       "      <td>1603247577</td>\n",
       "    </tr>\n",
       "    <tr>\n",
       "      <th>31</th>\n",
       "      <td>Denpasar</td>\n",
       "      <td>-8.65</td>\n",
       "      <td>115.22</td>\n",
       "      <td>84.20</td>\n",
       "      <td>79</td>\n",
       "      <td>40</td>\n",
       "      <td>12.75</td>\n",
       "      <td>ID</td>\n",
       "      <td>1603247911</td>\n",
       "    </tr>\n",
       "    <tr>\n",
       "      <th>33</th>\n",
       "      <td>Bluff</td>\n",
       "      <td>-46.60</td>\n",
       "      <td>168.33</td>\n",
       "      <td>57.00</td>\n",
       "      <td>60</td>\n",
       "      <td>50</td>\n",
       "      <td>11.99</td>\n",
       "      <td>NZ</td>\n",
       "      <td>1603247231</td>\n",
       "    </tr>\n",
       "    <tr>\n",
       "      <th>36</th>\n",
       "      <td>Faanui</td>\n",
       "      <td>-16.48</td>\n",
       "      <td>-151.75</td>\n",
       "      <td>79.07</td>\n",
       "      <td>80</td>\n",
       "      <td>11</td>\n",
       "      <td>13.96</td>\n",
       "      <td>PF</td>\n",
       "      <td>1603247507</td>\n",
       "    </tr>\n",
       "  </tbody>\n",
       "</table>\n",
       "</div>"
      ],
      "text/plain": [
       "              city    Lat     Lng  Max Temp  Humidity  Cloudiness  Wind Speed  \\\n",
       "2        Geraldton -28.77  114.60     69.80        60          75       17.22   \n",
       "10       Cape Town -33.93   18.42     51.01        81           0        3.36   \n",
       "12        Hermanus -34.42   19.23     51.01        85           0        3.00   \n",
       "14         Rikitea -23.12 -134.97     73.92        76          28        9.62   \n",
       "16            Poum -20.23  164.02     75.79        67           1        1.72   \n",
       "18          Castro -24.79  -50.01     62.10        91          41        5.55   \n",
       "20      Bredasdorp -34.53   20.04     41.00        93           0        2.24   \n",
       "23          Cuamba -14.80   36.54     73.17        53          10        5.32   \n",
       "25      Santa Inês  -3.67  -45.38     77.09        79          26        6.33   \n",
       "27     New Norfolk -42.78  147.06     68.00        53          97        1.01   \n",
       "28  Port Elizabeth -33.92   25.57     50.00        87           7        2.24   \n",
       "30           Pisco -13.70  -76.22     64.00        82           3       12.75   \n",
       "31        Denpasar  -8.65  115.22     84.20        79          40       12.75   \n",
       "33           Bluff -46.60  168.33     57.00        60          50       11.99   \n",
       "36          Faanui -16.48 -151.75     79.07        80          11       13.96   \n",
       "\n",
       "   Country        Date  \n",
       "2       AU  1603247779  \n",
       "10      ZA  1603247534  \n",
       "12      ZA  1603247224  \n",
       "14      PF  1603247453  \n",
       "16      NC  1603247561  \n",
       "18      BR  1603247462  \n",
       "20      ZA  1603247524  \n",
       "23      MZ  1603247910  \n",
       "25      BR  1603247910  \n",
       "27      AU  1603247527  \n",
       "28      ZA  1603247265  \n",
       "30      PE  1603247577  \n",
       "31      ID  1603247911  \n",
       "33      NZ  1603247231  \n",
       "36      PF  1603247507  "
      ]
     },
     "execution_count": 140,
     "metadata": {},
     "output_type": "execute_result"
    }
   ],
   "source": [
    "# Display the Southern Hemisphere Dataframe\n",
    "southlat_df.head(15)"
   ]
  },
  {
   "cell_type": "markdown",
   "metadata": {},
   "source": [
    "####  Northern Hemisphere - Max Temp vs. Latitude Linear Regression"
   ]
  },
  {
   "cell_type": "code",
   "execution_count": 142,
   "metadata": {},
   "outputs": [
    {
     "name": "stdout",
     "output_type": "stream",
     "text": [
      "The r-squared is: -0.8797387275008719\n"
     ]
    },
    {
     "data": {
      "image/png": "[encoded data removed]",
      "text/plain": [
       "<Figure size 432x288 with 1 Axes>"
      ]
     },
     "metadata": {
      "needs_background": "light"
     },
     "output_type": "display_data"
    },
    {
     "data": {
      "text/plain": [
       "<Figure size 432x288 with 0 Axes>"
      ]
     },
     "metadata": {},
     "output_type": "display_data"
    }
   ],
   "source": [
    "# Build the Plot\n",
    "x_values = northlat_df[\"Lat\"]\n",
    "y_values = northlat_df[\"Max Temp\"]\n",
    "plot_linear_regression(x_values,y_values,'Max Temp',(6,30))\n",
    "\n",
    "# Save Figure\n",
    "plt.savefig(\"./Data/North_Lat_Temp.png\")\n",
    "\n",
    "# Show Plot\n",
    "plt.show()"
   ]
  },
  {
   "cell_type": "markdown",
   "metadata": {},
   "source": [
    "####  Southern Hemisphere - Max Temp vs. Latitude Linear Regression"
   ]
  },
  {
   "cell_type": "code",
   "execution_count": 143,
   "metadata": {},
   "outputs": [
    {
     "name": "stdout",
     "output_type": "stream",
     "text": [
      "The r-squared is: 0.6832910214540536\n"
     ]
    },
    {
     "data": {
      "image/png": "[encoded data removed]",
      "text/plain": [
       "<Figure size 432x288 with 1 Axes>"
      ]
     },
     "metadata": {
      "needs_background": "light"
     },
     "output_type": "display_data"
    },
    {
     "data": {
      "text/plain": [
       "<Figure size 432x288 with 0 Axes>"
      ]
     },
     "metadata": {},
     "output_type": "display_data"
    }
   ],
   "source": [
    "# Build the Plot\n",
    "x_values = southlat_df[\"Lat\"]\n",
    "y_values = southlat_df[\"Max Temp\"]\n",
    "plot_linear_regression(x_values,y_values,'Max Temp',(6,30))\n",
    "\n",
    "# Save Figure\n",
    "plt.savefig(\"./Data/South_Lat_Temp\")\n",
    "\n",
    "# Show Plot\n",
    "plt.show()"
   ]
  },
  {
   "cell_type": "markdown",
   "metadata": {},
   "source": [
    "The linear regression is showing the correlation between max temperature and the latitude of the city randomly selected. The r squares are close to -1 and 1 which indicates a strong correlation between the variables confirms our intuition that how north or south a city is would be strongly correlated with the max temperature of that city."
   ]
  },
  {
   "cell_type": "markdown",
   "metadata": {},
   "source": [
    "####  Northern Hemisphere - Humidity (%) vs. Latitude Linear Regression"
   ]
  },
  {
   "cell_type": "code",
   "execution_count": 144,
   "metadata": {},
   "outputs": [
    {
     "name": "stdout",
     "output_type": "stream",
     "text": [
      "The r-squared is: 0.25012413616075874\n"
     ]
    },
    {
     "data": {
      "image/png": "[encoded data removed]",
      "text/plain": [
       "<Figure size 432x288 with 1 Axes>"
      ]
     },
     "metadata": {
      "needs_background": "light"
     },
     "output_type": "display_data"
    },
    {
     "data": {
      "text/plain": [
       "<Figure size 432x288 with 0 Axes>"
      ]
     },
     "metadata": {},
     "output_type": "display_data"
    }
   ],
   "source": [
    "# Build the Plot\n",
    "x_values = northlat_df[\"Lat\"]\n",
    "y_values = northlat_df[\"Humidity\"]\n",
    "plot_linear_regression(x_values,y_values,'Humidity',(6,30))\n",
    "\n",
    "# Save Figure\n",
    "plt.savefig(\"./Data/North_Lat_Humidity.png\")\n",
    "\n",
    "# Show Plot\n",
    "plt.show()"
   ]
  },
  {
   "cell_type": "markdown",
   "metadata": {},
   "source": [
    "####  Southern Hemisphere - Humidity (%) vs. Latitude Linear Regression"
   ]
  },
  {
   "cell_type": "code",
   "execution_count": 145,
   "metadata": {},
   "outputs": [
    {
     "name": "stdout",
     "output_type": "stream",
     "text": [
      "The r-squared is: 0.21234634465672889\n"
     ]
    },
    {
     "data": {
      "image/png": "[encoded data removed]",
      "text/plain": [
       "<Figure size 432x288 with 1 Axes>"
      ]
     },
     "metadata": {
      "needs_background": "light"
     },
     "output_type": "display_data"
    },
    {
     "data": {
      "text/plain": [
       "<Figure size 432x288 with 0 Axes>"
      ]
     },
     "metadata": {},
     "output_type": "display_data"
    }
   ],
   "source": [
    "# Build the Plot\n",
    "x_values = southlat_df[\"Lat\"]\n",
    "y_values = southlat_df[\"Humidity\"]\n",
    "plot_linear_regression(x_values,y_values,'Humidity',(6,30))\n",
    "\n",
    "# Save Figure\n",
    "plt.savefig(\"./Data/South_Lat_Humidity.png\")\n",
    "\n",
    "# Show Plot\n",
    "plt.show()"
   ]
  },
  {
   "cell_type": "markdown",
   "metadata": {},
   "source": [
    "The linear regression is showing the correlation between humidity and the latitude of the city randomly selected. The r squares are both closer to 0 which indicates a weak correlation between the variables confirms our intuition that humidity would not be closely related to the latitude of a city."
   ]
  },
  {
   "cell_type": "markdown",
   "metadata": {},
   "source": [
    "####  Northern Hemisphere - Cloudiness (%) vs. Latitude Linear Regression"
   ]
  },
  {
   "cell_type": "code",
   "execution_count": 146,
   "metadata": {
    "collapsed": true
   },
   "outputs": [
    {
     "name": "stdout",
     "output_type": "stream",
     "text": [
      "The r-squared is: 0.2456632061444421\n"
     ]
    },
    {
     "data": {
      "image/png": "[encoded data removed]",
      "text/plain": [
       "<Figure size 432x288 with 1 Axes>"
      ]
     },
     "metadata": {
      "needs_background": "light"
     },
     "output_type": "display_data"
    },
    {
     "data": {
      "text/plain": [
       "<Figure size 432x288 with 0 Axes>"
      ]
     },
     "metadata": {},
     "output_type": "display_data"
    }
   ],
   "source": [
    "# Build the Plot\n",
    "x_values = northlat_df[\"Lat\"]\n",
    "y_values = northlat_df[\"Cloudiness\"]\n",
    "plot_linear_regression(x_values,y_values,'Cloudiness',(6,30))\n",
    "\n",
    "# Save Figure\n",
    "plt.savefig(\"./Data/North_Lat_Cloudiness.png\")\n",
    "\n",
    "# Show Plot\n",
    "plt.show()"
   ]
  },
  {
   "cell_type": "markdown",
   "metadata": {},
   "source": [
    "####  Southern Hemisphere - Cloudiness (%) vs. Latitude Linear Regression"
   ]
  },
  {
   "cell_type": "code",
   "execution_count": 147,
   "metadata": {},
   "outputs": [
    {
     "name": "stdout",
     "output_type": "stream",
     "text": [
      "The r-squared is: 0.1430713387116977\n"
     ]
    },
    {
     "data": {
      "image/png": "[encoded data removed]",
      "text/plain": [
       "<Figure size 432x288 with 1 Axes>"
      ]
     },
     "metadata": {
      "needs_background": "light"
     },
     "output_type": "display_data"
    },
    {
     "data": {
      "text/plain": [
       "<Figure size 432x288 with 0 Axes>"
      ]
     },
     "metadata": {},
     "output_type": "display_data"
    }
   ],
   "source": [
    "# Build the Plot\n",
    "x_values = southlat_df[\"Lat\"]\n",
    "y_values = southlat_df[\"Cloudiness\"]\n",
    "plot_linear_regression(x_values,y_values,'Cloudiness',(6,30))\n",
    "\n",
    "# Save Figure\n",
    "plt.savefig(\"./Data/South_Lat_Cloudiness.png\")\n",
    "\n",
    "# Show Plot\n",
    "plt.show()"
   ]
  },
  {
   "cell_type": "markdown",
   "metadata": {},
   "source": [
    "The linear regression is showing the correlation between cloudiness and the latitude of the city randomly selected. The r squares are both closer to 0 which indicates a weak correlation between the variables confirms our intuition that cloudiness would not be closely related to the latitude of a city."
   ]
  },
  {
   "cell_type": "markdown",
   "metadata": {},
   "source": [
    "####  Northern Hemisphere - Wind Speed (mph) vs. Latitude Linear Regression"
   ]
  },
  {
   "cell_type": "code",
   "execution_count": 148,
   "metadata": {},
   "outputs": [
    {
     "name": "stdout",
     "output_type": "stream",
     "text": [
      "The r-squared is: 0.07363957404326808\n"
     ]
    },
    {
     "data": {
      "image/png": "[encoded data removed]",
      "text/plain": [
       "<Figure size 432x288 with 1 Axes>"
      ]
     },
     "metadata": {
      "needs_background": "light"
     },
     "output_type": "display_data"
    },
    {
     "data": {
      "text/plain": [
       "<Figure size 432x288 with 0 Axes>"
      ]
     },
     "metadata": {},
     "output_type": "display_data"
    }
   ],
   "source": [
    "# Build the Plot\n",
    "x_values = northlat_df[\"Lat\"]\n",
    "y_values = northlat_df[\"Wind Speed\"]\n",
    "plot_linear_regression(x_values,y_values,'Wind Speed',(6,30))\n",
    "\n",
    "# Save Figure\n",
    "plt.savefig(\"./Data/North_Lat_Wind_Speed.png\")\n",
    "\n",
    "# Show Plot\n",
    "plt.show()"
   ]
  },
  {
   "cell_type": "markdown",
   "metadata": {},
   "source": [
    "####  Southern Hemisphere - Wind Speed (mph) vs. Latitude Linear Regression"
   ]
  },
  {
   "cell_type": "code",
   "execution_count": 149,
   "metadata": {},
   "outputs": [
    {
     "name": "stdout",
     "output_type": "stream",
     "text": [
      "The r-squared is: -0.15559268165847817\n"
     ]
    },
    {
     "data": {
      "image/png": "[encoded data removed]",
      "text/plain": [
       "<Figure size 432x288 with 1 Axes>"
      ]
     },
     "metadata": {
      "needs_background": "light"
     },
     "output_type": "display_data"
    },
    {
     "data": {
      "text/plain": [
       "<Figure size 432x288 with 0 Axes>"
      ]
     },
     "metadata": {},
     "output_type": "display_data"
    }
   ],
   "source": [
    "# Build the Plot\n",
    "x_values = southlat_df[\"Lat\"]\n",
    "y_values = southlat_df[\"Wind Speed\"]\n",
    "plot_linear_regression(x_values,y_values,'Wind Speed',(6,30))\n",
    "\n",
    "# Save Figure\n",
    "plt.savefig(\"./Data/South_Lat_Wind_Speed.png\")\n",
    "\n",
    "# Show Plot\n",
    "plt.show()"
   ]
  },
  {
   "cell_type": "markdown",
   "metadata": {},
   "source": [
    "The linear regression is showing the correlation between wind and the latitude of the city randomly selected. The r squares are both closer to 0 which indicates a weak correlation between the variables confirms our intuition that wind speed would not be closely related to the latitude of a city."
   ]
  },
  {
   "cell_type": "markdown",
   "metadata": {},
   "source": [
    "# Observable Trends"
   ]
  },
  {
   "cell_type": "markdown",
   "metadata": {},
   "source": [
    "1. Cities closer to the equater have higher temperatures on average. Vice versa, cities closer to the poles have lower temperatures on average."
   ]
  },
  {
   "cell_type": "markdown",
   "metadata": {},
   "source": [
    "2. There is not a statistically significant correlation between humidity, cloudiness, and wind speed and latitude of a city."
   ]
  },
  {
   "cell_type": "markdown",
   "metadata": {},
   "source": [
    "3. Even though there is not a strong correlation between wind speed and latitude, high wind speeds (> 20 mph) are more commonly found in cities closer to the poles."
   ]
  },
  {
   "cell_type": "code",
   "execution_count": null,
   "metadata": {},
   "outputs": [],
   "source": []
  }
 ],
 "metadata": {
  "anaconda-cloud": {},
  "kernel_info": {
   "name": "python3"
  },
  "kernelspec": {
   "display_name": "Python 3",
   "language": "python",
   "name": "python3"
  },
  "language_info": {
   "codemirror_mode": {
    "name": "ipython",
    "version": 3
   },
   "file_extension": ".py",
   "mimetype": "text/x-python",
   "name": "python",
   "nbconvert_exporter": "python",
   "pygments_lexer": "ipython3",
   "version": "3.8.3"
  },
  "latex_envs": {
   "LaTeX_envs_menu_present": true,
   "autoclose": false,
   "autocomplete": true,
   "bibliofile": "biblio.bib",
   "cite_by": "apalike",
   "current_citInitial": 1,
   "eqLabelWithNumbers": true,
   "eqNumInitial": 1,
   "hotkeys": {
    "equation": "Ctrl-E",
    "itemize": "Ctrl-I"
   },
   "labels_anchors": false,
   "latex_user_defs": false,
   "report_style_numbering": false,
   "user_envs_cfg": false
  },
  "nteract": {
   "version": "0.12.3"
  }
 },
 "nbformat": 4,
 "nbformat_minor": 2
}
