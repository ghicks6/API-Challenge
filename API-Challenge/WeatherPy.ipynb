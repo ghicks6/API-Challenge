{
 "cells": [
  {
   "cell_type": "markdown",
   "metadata": {},
   "source": [
    "# WeatherPy\n",
    "----\n",
    "\n",
    "#### Note\n",
    "* Instructions have been included for each segment. You do not have to follow them exactly, but they are included to help you think through the steps."
   ]
  },
  {
   "cell_type": "code",
   "execution_count": 4,
   "metadata": {
    "scrolled": true
   },
   "outputs": [],
   "source": [
    "# Dependencies and Setup\n",
    "import matplotlib.pyplot as plt\n",
    "import pandas as pd\n",
    "import numpy as np\n",
    "import requests\n",
    "import time\n",
    "from scipy.stats import linregress\n",
    "import json\n",
    "# Import API key\n",
    "from api_keys import weather_api_key\n",
    "#Incorporated citipy to determine city based on latitude and longitude\n",
    "from citipy import citipy\n",
    "\n",
    "# Output File (CSV)\n",
    "output_data_file = \"output_data/cities.csv\"\n",
    "\n",
    "# Range of latitudes and longitudes\n",
    "lat_range = (-90, 90)\n",
    "lng_range = (-180, 180)"
   ]
  },
  {
   "cell_type": "markdown",
   "metadata": {},
   "source": [
    "## Generate Cities List"
   ]
  },
  {
   "cell_type": "code",
   "execution_count": 5,
   "metadata": {},
   "outputs": [
    {
     "data": {
      "text/plain": [
       "596"
      ]
     },
     "execution_count": 5,
     "metadata": {},
     "output_type": "execute_result"
    }
   ],
   "source": [
    "# List for holding lat_lngs and cities\n",
    "lat_lngs = []\n",
    "cities = []\n",
    "\n",
    "# Create a set of random lat and lng combinations\n",
    "lats = np.random.uniform(lat_range[0], lat_range[1], size=1500)\n",
    "lngs = np.random.uniform(lng_range[0], lng_range[1], size=1500)\n",
    "lat_lngs = zip(lats, lngs)\n",
    "\n",
    "# Identify nearest city for each lat, lng combination\n",
    "for lat_lng in lat_lngs:\n",
    "    city = citipy.nearest_city(lat_lng[0], lat_lng[1]).city_name\n",
    "    \n",
    "    # If the city is unique, then add it to a our cities list\n",
    "    if city not in cities:\n",
    "        cities.append(city)\n",
    "\n",
    "# Print the city count to confirm sufficient count\n",
    "len(cities)"
   ]
  },
  {
   "cell_type": "markdown",
   "metadata": {},
   "source": [
    "### Perform API Calls\n",
    "* Perform a weather check on each city using a series of successive API calls.\n",
    "* Include a print log of each city as it'sbeing processed (with the city number and city name).\n"
   ]
  },
  {
   "cell_type": "code",
   "execution_count": 6,
   "metadata": {
    "scrolled": true
   },
   "outputs": [
    {
     "name": "stdout",
     "output_type": "stream",
     "text": [
      "http://api.openweathermap.org/data/2.5/weather?appid=bd923925b406be26047f7291a2d6a219&units=imperial&q=\n",
      "{\n",
      "    \"coord\": {\n",
      "        \"lon\": -159.32,\n",
      "        \"lat\": 22.08\n",
      "    },\n",
      "    \"weather\": [\n",
      "        {\n",
      "            \"id\": 804,\n",
      "            \"main\": \"Clouds\",\n",
      "            \"description\": \"overcast clouds\",\n",
      "            \"icon\": \"04d\"\n",
      "        }\n",
      "    ],\n",
      "    \"base\": \"stations\",\n",
      "    \"main\": {\n",
      "        \"temp\": 82.6,\n",
      "        \"feels_like\": 82.49,\n",
      "        \"temp_min\": 81,\n",
      "        \"temp_max\": 84,\n",
      "        \"pressure\": 1013,\n",
      "        \"humidity\": 69\n",
      "    },\n",
      "    \"visibility\": 10000,\n",
      "    \"wind\": {\n",
      "        \"speed\": 14.99,\n",
      "        \"deg\": 200,\n",
      "        \"gust\": 20.8\n",
      "    },\n",
      "    \"clouds\": {\n",
      "        \"all\": 90\n",
      "    },\n",
      "    \"dt\": 1603060994,\n",
      "    \"sys\": {\n",
      "        \"type\": 1,\n",
      "        \"id\": 7873,\n",
      "        \"country\": \"US\",\n",
      "        \"sunrise\": 1603038887,\n",
      "        \"sunset\": 1603080567\n",
      "    },\n",
      "    \"timezone\": -36000,\n",
      "    \"id\": 5848280,\n",
      "    \"name\": \"Kapaa\",\n",
      "    \"cod\": 200\n",
      "}\n"
     ]
    }
   ],
   "source": [
    "# Get Weather Data\n",
    "url = \"http://api.openweathermap.org/data/2.5/weather?\"\n",
    "units = \"imperial\"\n",
    "query_url = f\"{url}appid={weather_api_key}&units={units}&q=\"\n",
    "print(query_url)\n",
    "weather_response = requests.get(query_url + city)\n",
    "weather_json = weather_response.json()\n",
    "print(json.dumps(weather_json, indent=4))"
   ]
  },
  {
   "cell_type": "code",
   "execution_count": 7,
   "metadata": {},
   "outputs": [
    {
     "name": "stdout",
     "output_type": "stream",
     "text": [
      "<Response [200]>\n"
     ]
    }
   ],
   "source": [
    "print(requests.get(query_url + city))"
   ]
  },
  {
   "cell_type": "code",
   "execution_count": 8,
   "metadata": {},
   "outputs": [
    {
     "name": "stdout",
     "output_type": "stream",
     "text": [
      "Beginning Data Retrieval\n",
      "-------------------------------\n",
      "City not found. Skipping...\n",
      "Processing Record 1 | Carnarvon\n",
      "Processing Record 2 | Nouadhibou\n",
      "Processing Record 3 | Severo-Kuril'sk\n",
      "Processing Record 4 | Tasiilaq\n",
      "Processing Record 5 | East London\n",
      "City not found. Skipping...\n",
      "Processing Record 6 | Meulaboh\n",
      "Processing Record 7 | Bluff\n",
      "Processing Record 8 | Tuatapere\n",
      "Processing Record 9 | Shimoda\n",
      "Processing Record 10 | Carutapera\n",
      "Processing Record 11 | Jamestown\n",
      "City not found. Skipping...\n",
      "Processing Record 12 | Kapaa\n",
      "Processing Record 13 | Cape Town\n",
      "Processing Record 14 | Bilibino\n",
      "Processing Record 15 | La Palma\n",
      "Processing Record 16 | Punta Arenas\n",
      "Processing Record 17 | Mar del Plata\n",
      "Processing Record 18 | Yellowknife\n",
      "Processing Record 19 | Barrow\n",
      "Processing Record 20 | Atuona\n",
      "Processing Record 21 | Nabire\n",
      "Processing Record 22 | Mataura\n",
      "Processing Record 23 | Hilo\n",
      "Processing Record 24 | Hermanus\n",
      "Processing Record 25 | Albany\n",
      "Processing Record 26 | Airai\n",
      "City not found. Skipping...\n",
      "Processing Record 27 | Nur-Sultan\n",
      "Processing Record 28 | Melbu\n",
      "Processing Record 29 | Tiarei\n",
      "Processing Record 30 | Avarua\n",
      "Processing Record 31 | Hobart\n",
      "Processing Record 32 | Arraial do Cabo\n",
      "Processing Record 33 | Aksu\n",
      "Processing Record 34 | Colares\n",
      "Processing Record 35 | Safi\n",
      "Processing Record 36 | Cabo San Lucas\n",
      "Processing Record 37 | Nikolskoye\n",
      "Processing Record 38 | Lebu\n",
      "Processing Record 39 | Port Elizabeth\n",
      "Processing Record 40 | Gao\n",
      "Processing Record 41 | Zyryanka\n",
      "Processing Record 42 | Sadovoye\n",
      "Processing Record 43 | Rikitea\n",
      "Processing Record 44 | Fukuechō\n",
      "City not found. Skipping...\n",
      "Processing Record 45 | Saint Paul Harbor\n",
      "Processing Record 46 | Saldanha\n",
      "Processing Record 47 | Phonhong\n",
      "Processing Record 48 | Hay River\n",
      "City not found. Skipping...\n",
      "Processing Record 49 | Shaunavon\n",
      "Processing Record 50 | Castro\n",
      "Processing Record 51 | Mayo\n",
      "Processing Record 52 | Cherskiy\n",
      "Processing Record 53 | Bredasdorp\n",
      "Processing Record 54 | Padang\n",
      "Processing Record 55 | Taoudenni\n",
      "Processing Record 56 | Eyl\n",
      "Processing Record 57 | Klaksvík\n",
      "Processing Record 58 | Chui\n",
      "Processing Record 59 | Rosetta\n",
      "Processing Record 60 | Kavieng\n",
      "Processing Record 61 | Halifax\n",
      "Processing Record 62 | Coyhaique\n",
      "Processing Record 63 | Palmeirais\n",
      "Processing Record 64 | Haines Junction\n",
      "Processing Record 65 | Atar\n",
      "Processing Record 66 | Bud\n",
      "Processing Record 67 | El Alto\n",
      "Processing Record 68 | Lima\n",
      "Processing Record 69 | Geraldton\n",
      "Processing Record 70 | Camopi\n",
      "Processing Record 71 | Huitziltepec\n",
      "Processing Record 72 | Cañon City\n",
      "Processing Record 73 | Nuuk\n",
      "Processing Record 74 | Nacala\n",
      "Processing Record 75 | Thompson\n",
      "City not found. Skipping...\n",
      "Processing Record 76 | Faya\n",
      "Processing Record 77 | Saint-Philippe\n",
      "Processing Record 78 | Nanortalik\n",
      "City not found. Skipping...\n",
      "Processing Record 79 | Taganak\n",
      "Processing Record 80 | Moree\n",
      "Processing Record 81 | Ushuaia\n",
      "Processing Record 82 | Vaini\n",
      "Processing Record 83 | Bima\n",
      "Processing Record 84 | Novovasylivka\n",
      "Processing Record 85 | Altay\n",
      "Processing Record 86 | Busselton\n",
      "Processing Record 87 | Itarema\n",
      "City not found. Skipping...\n",
      "Processing Record 88 | Dombarovskiy\n",
      "Processing Record 89 | Salalah\n",
      "Processing Record 90 | Pringsewu\n",
      "City not found. Skipping...\n",
      "Processing Record 91 | Faanui\n",
      "Processing Record 92 | Butaritari\n",
      "Processing Record 93 | Ambon City\n",
      "Processing Record 94 | Torbay\n",
      "City not found. Skipping...\n",
      "Processing Record 95 | Longyearbyen\n",
      "Processing Record 96 | Khatanga\n",
      "Processing Record 97 | Mollendo\n",
      "Processing Record 98 | Luwingu\n",
      "Processing Record 99 | Fortuna\n",
      "Processing Record 100 | Marabu\n",
      "Processing Record 101 | Kahului\n",
      "Processing Record 102 | Xining\n",
      "City not found. Skipping...\n",
      "Processing Record 103 | Vardø\n",
      "Processing Record 104 | Maragogi\n",
      "Processing Record 105 | Ribeira Grande\n",
      "Processing Record 106 | New Norfolk\n",
      "Processing Record 107 | Chicama\n",
      "Processing Record 108 | Peleduy\n",
      "Processing Record 109 | Trat\n",
      "Processing Record 110 | Mandalgovi\n",
      "Processing Record 111 | Kruisfontein\n",
      "Processing Record 112 | Port Alfred\n",
      "Processing Record 113 | Saint-Pierre\n",
      "Processing Record 114 | São Filipe\n",
      "Processing Record 115 | Ugoofaaru\n",
      "Processing Record 116 | Nome\n",
      "Processing Record 117 | Arlit\n",
      "Processing Record 118 | Puerto Ayora\n",
      "Processing Record 119 | Esperance\n",
      "Processing Record 120 | Alghero\n",
      "Processing Record 121 | Hvolsvollur\n",
      "Processing Record 122 | Chodavaram\n",
      "Processing Record 123 | Quatre Cocos\n",
      "Processing Record 124 | Hithadhoo\n",
      "Processing Record 125 | Rocha\n",
      "Processing Record 126 | Port Lincoln\n",
      "Processing Record 127 | São Félix do Xingu\n",
      "Processing Record 128 | Ancud\n",
      "Processing Record 129 | Zambezi\n",
      "Processing Record 130 | Intipucá\n",
      "Processing Record 131 | Mahébourg\n",
      "Processing Record 132 | Karratha\n",
      "City not found. Skipping...\n",
      "Processing Record 133 | George Town\n",
      "Processing Record 134 | Dikson\n",
      "Processing Record 135 | Anito\n",
      "Processing Record 136 | Krasnogorskiy\n",
      "Processing Record 137 | Saint Andrews\n",
      "Processing Record 138 | Kaitangata\n",
      "City not found. Skipping...\n",
      "Processing Record 139 | Unaí\n",
      "Processing Record 140 | Nurota\n",
      "Processing Record 141 | Gerlingen\n",
      "Processing Record 142 | Smithers\n",
      "Processing Record 143 | Souillac\n",
      "Processing Record 144 | Bulgan\n",
      "Processing Record 145 | Clyde River\n",
      "Processing Record 146 | Grindavik\n",
      "City not found. Skipping...\n",
      "Processing Record 147 | Oruzgan\n",
      "City not found. Skipping...\n",
      "Processing Record 148 | Hong Kong\n",
      "Processing Record 149 | Hasaki\n",
      "Processing Record 150 | Anadyr\n",
      "Processing Record 151 | Lavrentiya\n",
      "Processing Record 152 | Anloga\n",
      "Processing Record 153 | Juegang\n",
      "Processing Record 154 | Syracuse\n",
      "Processing Record 155 | Ampanihy\n",
      "Processing Record 156 | Vila Velha\n",
      "Processing Record 157 | Bajil\n",
      "Processing Record 158 | Mīnāb\n",
      "Processing Record 159 | Katsuura\n",
      "Processing Record 160 | Kiunga\n",
      "Processing Record 161 | San Policarpo\n",
      "Processing Record 162 | Qaqortoq\n",
      "Processing Record 163 | Isangel\n",
      "Processing Record 164 | Muli\n",
      "Processing Record 165 | La Ronge\n",
      "Processing Record 166 | Kaoma\n",
      "Processing Record 167 | Pimentel\n",
      "City not found. Skipping...\n",
      "Processing Record 168 | Ulaangom\n",
      "Processing Record 169 | Dawson Creek\n",
      "Processing Record 170 | Qaanaaq\n",
      "Processing Record 171 | Hachinohe\n",
      "Processing Record 172 | Kharp\n",
      "Processing Record 173 | Hibbing\n",
      "City not found. Skipping...\n",
      "Processing Record 174 | Manacapuru\n",
      "Processing Record 175 | Provideniya\n",
      "Processing Record 176 | El Chichicaste\n",
      "Processing Record 177 | Port Blair\n",
      "Processing Record 178 | Hofn\n",
      "Processing Record 179 | Shakiso\n",
      "Processing Record 180 | San Cristobal\n",
      "Processing Record 181 | Tabuk\n",
      "Processing Record 182 | West Wendover\n",
      "City not found. Skipping...\n",
      "Processing Record 183 | Daru\n",
      "Processing Record 184 | Whitehorse\n",
      "Processing Record 185 | Tubmanburg\n",
      "Processing Record 186 | Mehrān\n",
      "Processing Record 187 | Racine\n",
      "Processing Record 188 | Houston\n",
      "Processing Record 189 | Māndal\n",
      "Processing Record 190 | Vaitape\n",
      "Processing Record 191 | Flin Flon\n",
      "Processing Record 192 | Lorengau\n",
      "Processing Record 193 | Novo Aripuanã\n",
      "Processing Record 194 | Pisco\n",
      "Processing Record 195 | Arroyo de la Encomienda\n",
      "Processing Record 196 | Aswān\n",
      "Processing Record 197 | Jackson\n",
      "Processing Record 198 | Cassilândia\n",
      "City not found. Skipping...\n",
      "Processing Record 199 | Tuktoyaktuk\n",
      "Processing Record 200 | Bambous Virieux\n",
      "Processing Record 201 | Xinyu\n",
      "Processing Record 202 | Dolores\n",
      "City not found. Skipping...\n",
      "Processing Record 203 | Bonfim\n",
      "Processing Record 204 | Bonavista\n",
      "Processing Record 205 | Koutiala\n",
      "Processing Record 206 | Kysyl-Syr\n",
      "Processing Record 207 | Marawi\n",
      "Processing Record 208 | Portland\n",
      "Processing Record 209 | Amahai\n",
      "Processing Record 210 | Vágur\n",
      "Processing Record 211 | Tres Arroyos\n",
      "Processing Record 212 | Leningradskiy\n",
      "Processing Record 213 | Erzin\n",
      "Processing Record 214 | Oranjemund\n",
      "Processing Record 215 | Hambantota\n",
      "Processing Record 216 | Manzanillo\n",
      "Processing Record 217 | Brzeg\n",
      "Processing Record 218 | Yima\n",
      "Processing Record 219 | Te Anau\n",
      "Processing Record 220 | Cidreira\n",
      "Processing Record 221 | Sulangan\n",
      "Processing Record 222 | Kingston\n",
      "Processing Record 223 | Ahipara\n",
      "Processing Record 224 | Hesperia\n",
      "Processing Record 225 | Port Hardy\n",
      "Processing Record 226 | Ciudad Gustavo Díaz Ordaz\n",
      "Processing Record 227 | Lesnoy\n",
      "Processing Record 228 | Tomatlán\n",
      "Processing Record 229 | Laas\n",
      "Processing Record 230 | Ust'-Kulom\n",
      "Processing Record 231 | San Borja\n",
      "Processing Record 232 | Port-Cartier\n"
     ]
    },
    {
     "name": "stdout",
     "output_type": "stream",
     "text": [
      "Processing Record 233 | Namchi\n",
      "Processing Record 234 | Vostok\n",
      "Processing Record 235 | Andenes\n",
      "Processing Record 236 | Hervey Bay\n",
      "Processing Record 237 | Seoul\n",
      "Processing Record 238 | Pacifica\n",
      "Processing Record 239 | Mossamedes\n",
      "Processing Record 240 | Pangai\n",
      "Processing Record 241 | Matonga\n",
      "Processing Record 242 | Byndoor\n",
      "Processing Record 243 | Kuril'sk\n",
      "Processing Record 244 | San Quintín\n",
      "Processing Record 245 | Çay\n",
      "Processing Record 246 | Koshurnikovo\n",
      "Processing Record 247 | Bathsheba\n",
      "Processing Record 248 | Upernavik\n",
      "Processing Record 249 | Banjar\n",
      "Processing Record 250 | Paso de Carrasco\n",
      "Processing Record 251 | Sittwe\n",
      "Processing Record 252 | Novomykolayivka\n",
      "Processing Record 253 | Tiksi\n",
      "Processing Record 254 | Zhanakorgan\n",
      "Processing Record 255 | Strelka\n",
      "Processing Record 256 | Oistins\n",
      "Processing Record 257 | Ponta Delgada\n",
      "Processing Record 258 | Chokurdakh\n",
      "Processing Record 259 | Bengkulu\n",
      "Processing Record 260 | Mercedes\n",
      "Processing Record 261 | Benguela\n",
      "Processing Record 262 | Uvat\n",
      "Processing Record 263 | Patitiri\n",
      "Processing Record 264 | Tandur\n",
      "Processing Record 265 | Ponta do Sol\n",
      "Processing Record 266 | Pemangkat\n",
      "Processing Record 267 | Malbork\n",
      "Processing Record 268 | Kikwit\n",
      "Processing Record 269 | Luanda\n",
      "Processing Record 270 | Coahuayana Viejo\n",
      "Processing Record 271 | Diego de Almagro\n",
      "Processing Record 272 | Shar'ya\n",
      "Processing Record 273 | Saryagash\n",
      "Processing Record 274 | Tilichiki\n",
      "Processing Record 275 | Kilindoni\n",
      "Processing Record 276 | Mayumba\n",
      "Processing Record 277 | Harper\n",
      "Processing Record 278 | Matadi\n",
      "Processing Record 279 | Hamilton\n",
      "Processing Record 280 | Omsukchan\n",
      "Processing Record 281 | Mergen\n",
      "Processing Record 282 | Balikpapan\n",
      "Processing Record 283 | Soe\n",
      "Processing Record 284 | Shache\n",
      "Processing Record 285 | Berlevåg\n",
      "Processing Record 286 | Saint George\n",
      "Processing Record 287 | Methóni\n",
      "City not found. Skipping...\n",
      "Processing Record 288 | Pangkalanbuun\n",
      "Processing Record 289 | Glace Bay\n",
      "Processing Record 290 | Phan Thiet\n",
      "Processing Record 291 | Panabá\n",
      "Processing Record 292 | Vestmannaeyjar\n",
      "Processing Record 293 | Adrar\n",
      "Processing Record 294 | Praxédis Guerrero\n",
      "Processing Record 295 | Richards Bay\n",
      "Processing Record 296 | Kedrovyy\n",
      "Processing Record 297 | Pevek\n",
      "City not found. Skipping...\n",
      "Processing Record 298 | Merritt Island\n",
      "Processing Record 299 | Maseru\n",
      "Processing Record 300 | Bandarbeyla\n",
      "Processing Record 301 | Nikolayevka\n",
      "Processing Record 302 | Rabak\n",
      "Processing Record 303 | Alyangula\n",
      "Processing Record 304 | Rodrigues Alves\n",
      "Processing Record 305 | Naryan-Mar\n",
      "Processing Record 306 | Novyy Urgal\n",
      "Processing Record 307 | Bogorodskoye\n",
      "Processing Record 308 | Samarai\n",
      "Processing Record 309 | Grafton\n",
      "Processing Record 310 | Cumana\n",
      "Processing Record 311 | Preobrazheniye\n",
      "Processing Record 312 | Shumskiy\n",
      "Processing Record 313 | Sitka\n",
      "Processing Record 314 | Saskylakh\n",
      "Processing Record 315 | Dukat\n",
      "Processing Record 316 | Kropotkin\n",
      "City not found. Skipping...\n",
      "Processing Record 317 | Waipawa\n",
      "Processing Record 318 | Rørvik\n",
      "Processing Record 319 | Nemuro\n",
      "Processing Record 320 | Sharan\n",
      "Processing Record 321 | Kununurra\n",
      "Processing Record 322 | Ixtapa\n",
      "Processing Record 323 | Bethel\n",
      "Processing Record 324 | Zaranj\n",
      "Processing Record 325 | Tual\n",
      "Processing Record 326 | Popondetta\n",
      "Processing Record 327 | Kungurtug\n",
      "Processing Record 328 | Mutum\n",
      "Processing Record 329 | Varkaus\n",
      "Processing Record 330 | Hualmay\n",
      "Processing Record 331 | Kipini\n",
      "Processing Record 332 | Touros\n",
      "Processing Record 333 | Bom Jesus\n",
      "Processing Record 334 | Deputatsky\n",
      "Processing Record 335 | Morant Bay\n",
      "City not found. Skipping...\n",
      "City not found. Skipping...\n",
      "Processing Record 336 | Hobyo\n",
      "Processing Record 337 | Pochutla\n",
      "Processing Record 338 | Ilulissat\n",
      "Processing Record 339 | Lompoc\n",
      "Processing Record 340 | Dalbandin\n",
      "City not found. Skipping...\n",
      "Processing Record 341 | Mana\n",
      "Processing Record 342 | Mitsamiouli\n",
      "Processing Record 343 | Cap Malheureux\n",
      "City not found. Skipping...\n",
      "Processing Record 344 | Defiance\n",
      "Processing Record 345 | Bell Ville\n",
      "Processing Record 346 | Iquique\n",
      "Processing Record 347 | Dinar\n",
      "Processing Record 348 | Makakilo City\n",
      "Processing Record 349 | Caravelas\n",
      "Processing Record 350 | Kalmunai\n",
      "Processing Record 351 | Mareeba\n",
      "Processing Record 352 | Karasburg\n",
      "Processing Record 353 | Najrān\n",
      "Processing Record 354 | Chauk\n",
      "Processing Record 355 | Potenza\n",
      "Processing Record 356 | Kribi\n",
      "Processing Record 357 | Beira\n",
      "Processing Record 358 | Brandfort\n",
      "Processing Record 359 | Nueve de Julio\n",
      "Processing Record 360 | Krasnovishersk\n",
      "Processing Record 361 | Mersing\n",
      "Processing Record 362 | Ribeira Brava\n",
      "Processing Record 363 | Wamba\n",
      "Processing Record 364 | Hailey\n",
      "Processing Record 365 | Cheremkhovo\n",
      "Processing Record 366 | Khovd\n",
      "City not found. Skipping...\n",
      "Processing Record 367 | Bulungu\n",
      "Processing Record 368 | Kumul\n",
      "Processing Record 369 | Norman Wells\n",
      "Processing Record 370 | Baganga\n",
      "Processing Record 371 | Codrington\n",
      "Processing Record 372 | Shenjiamen\n",
      "Processing Record 373 | Wendo\n",
      "Processing Record 374 | San Patricio\n",
      "Processing Record 375 | Gizo Government Station\n",
      "Processing Record 376 | Bilma\n",
      "Processing Record 377 | Tessalit\n",
      "Processing Record 378 | Sørland\n",
      "Processing Record 379 | Pryazha\n",
      "Processing Record 380 | Ostrovnoy\n",
      "Processing Record 381 | Yulara\n",
      "Processing Record 382 | Acaraú\n",
      "Processing Record 383 | Mabaruma\n",
      "City not found. Skipping...\n",
      "Processing Record 384 | Buala\n",
      "Processing Record 385 | Sosnovo-Ozerskoye\n",
      "City not found. Skipping...\n",
      "Processing Record 386 | Mount Gambier\n",
      "Processing Record 387 | Berezovyy\n",
      "Processing Record 388 | Chabahar\n",
      "Processing Record 389 | Guiratinga\n",
      "Processing Record 390 | Emerald\n",
      "Processing Record 391 | Ibrā’\n",
      "Processing Record 392 | Muş Province\n",
      "Processing Record 393 | Paamiut\n",
      "Processing Record 394 | Camacha\n",
      "Processing Record 395 | Jalu\n",
      "City not found. Skipping...\n",
      "Processing Record 396 | Turaif\n",
      "Processing Record 397 | Katherine\n",
      "Processing Record 398 | Arona\n",
      "Processing Record 399 | Bosobolo\n",
      "Processing Record 400 | Avera\n",
      "Processing Record 401 | Dingle\n",
      "Processing Record 402 | Tupiza\n",
      "Processing Record 403 | Lüderitz\n",
      "Processing Record 404 | Atambua\n",
      "City not found. Skipping...\n",
      "Processing Record 405 | Sarana\n",
      "Processing Record 406 | Cavalcante\n",
      "Processing Record 407 | Kintampo\n",
      "Processing Record 408 | Maţāy\n",
      "Processing Record 409 | Oriximiná\n",
      "Processing Record 410 | Constitución\n",
      "City not found. Skipping...\n",
      "Processing Record 411 | Saint-Joseph\n",
      "Processing Record 412 | Sarangani\n",
      "Processing Record 413 | Bagdarin\n",
      "Processing Record 414 | Hailar\n",
      "Processing Record 415 | Batagay-Alyta\n",
      "Processing Record 416 | Kirakira\n",
      "Processing Record 417 | Estelle\n",
      "Processing Record 418 | Bogoslovka\n",
      "Processing Record 419 | Bisert'\n",
      "Processing Record 420 | Road Town\n",
      "Processing Record 421 | Caxias do Sul\n",
      "Processing Record 422 | Port Moresby\n",
      "Processing Record 423 | Narganá\n",
      "Processing Record 424 | Half Moon Bay\n",
      "Processing Record 425 | Naze\n",
      "Processing Record 426 | Levelland\n",
      "Processing Record 427 | The Valley\n",
      "Processing Record 428 | Chegdomyn\n",
      "City not found. Skipping...\n",
      "Processing Record 429 | Birmitrapur\n",
      "City not found. Skipping...\n",
      "Processing Record 430 | Khorixas\n",
      "Processing Record 431 | Visby\n",
      "Processing Record 432 | Poya\n",
      "Processing Record 433 | Mahanoro\n",
      "Processing Record 434 | Wagga Wagga\n",
      "Processing Record 435 | San Ramon\n",
      "Processing Record 436 | São João da Barra\n",
      "Processing Record 437 | Alofi\n",
      "Processing Record 438 | Puerto Madero\n",
      "Processing Record 439 | Kushmurun\n",
      "Processing Record 440 | Dalaba\n",
      "Processing Record 441 | Dharmadam\n",
      "Processing Record 442 | Poum\n",
      "Processing Record 443 | Lata\n",
      "Processing Record 444 | Hammond\n",
      "Processing Record 445 | Oktyabr'skoye\n",
      "Processing Record 446 | Port Macquarie\n",
      "Processing Record 447 | Cervo\n",
      "Processing Record 448 | Taltal\n",
      "Processing Record 449 | Roald\n",
      "Processing Record 450 | Xingyi\n",
      "Processing Record 451 | Sioux Lookout\n",
      "Processing Record 452 | Seydi\n",
      "Processing Record 453 | Ossora\n",
      "Processing Record 454 | Swan Hill\n",
      "Processing Record 455 | Belmira\n",
      "Processing Record 456 | Zonguldak\n",
      "Processing Record 457 | Yangambi\n",
      "Processing Record 458 | Taku\n",
      "Processing Record 459 | Kardašova Řečice\n",
      "City not found. Skipping...\n",
      "Processing Record 460 | Huarmey\n",
      "Processing Record 461 | Raudeberg\n",
      "Processing Record 462 | Khani\n",
      "Processing Record 463 | Ucluelet\n",
      "Processing Record 464 | Lewiston\n",
      "Processing Record 465 | Cayenne\n",
      "Processing Record 466 | Rome\n"
     ]
    },
    {
     "name": "stdout",
     "output_type": "stream",
     "text": [
      "Processing Record 467 | Havre-St-Pierre\n",
      "Processing Record 468 | Zheleznodorozhnyy\n",
      "Processing Record 469 | Hays\n",
      "Processing Record 470 | Kavaratti\n",
      "Processing Record 471 | Ranot\n",
      "Processing Record 472 | Barra de Tecoanapa\n",
      "Processing Record 473 | Mrakovo\n",
      "Processing Record 474 | Boa Vista\n",
      "Processing Record 475 | Walvis Bay\n",
      "Processing Record 476 | Ngunguru\n",
      "Processing Record 477 | Pokhara\n",
      "Processing Record 478 | Juneau\n",
      "Processing Record 479 | Imbituba\n",
      "Processing Record 480 | Mwinilunga\n",
      "Processing Record 481 | Daoukro\n",
      "Processing Record 482 | Atasū\n",
      "Processing Record 483 | Mt. Pleasant\n",
      "City not found. Skipping...\n",
      "Processing Record 484 | Lagoa\n",
      "Processing Record 485 | Malindi\n",
      "City not found. Skipping...\n",
      "Processing Record 486 | Morondava\n",
      "Processing Record 487 | Liverpool\n",
      "Processing Record 488 | Pemberton\n",
      "City not found. Skipping...\n",
      "Processing Record 489 | Matamoros\n",
      "Processing Record 490 | Don Sak\n",
      "Processing Record 491 | São José da Coroa Grande\n",
      "Processing Record 492 | Manāwar\n",
      "Processing Record 493 | Villa Bruzual\n",
      "Processing Record 494 | Shipitsyno\n",
      "Processing Record 495 | Valdivia\n",
      "Processing Record 496 | Port Hedland\n",
      "Processing Record 497 | Philadelphia\n",
      "Processing Record 498 | Gravdal\n",
      "Processing Record 499 | Nuristan\n",
      "Processing Record 500 | Assiut\n",
      "Processing Record 501 | Ketchikan\n",
      "Processing Record 502 | Douentza\n",
      "Processing Record 503 | Broken Hill\n",
      "Processing Record 504 | Campoverde\n",
      "Processing Record 505 | Baturaja\n",
      "Processing Record 506 | Scarborough\n",
      "Processing Record 507 | Wattegama\n",
      "City not found. Skipping...\n",
      "City not found. Skipping...\n",
      "Processing Record 508 | Longaví\n",
      "Processing Record 509 | Antofagasta\n",
      "Processing Record 510 | Kailua\n",
      "Processing Record 511 | Peruíbe\n",
      "Processing Record 512 | Kasongo-Lunda\n",
      "Processing Record 513 | Lohāru\n",
      "Processing Record 514 | Camacupa\n",
      "Processing Record 515 | Yangi Marg`ilon\n",
      "Processing Record 516 | Hanzhong\n",
      "Processing Record 517 | Eugene\n",
      "Processing Record 518 | Udachny\n",
      "Processing Record 519 | Daman\n",
      "Processing Record 520 | Shabrovskiy\n",
      "City not found. Skipping...\n",
      "Processing Record 521 | Nizhniy Tsasuchey\n",
      "Processing Record 522 | Prince Rupert\n",
      "Processing Record 523 | Porto Santo\n",
      "Processing Record 524 | Watrous\n",
      "Processing Record 525 | Belmonte\n",
      "Processing Record 526 | Pirganj\n",
      "Processing Record 527 | Lucapa\n",
      "Processing Record 528 | Singkawang\n",
      "Processing Record 529 | Petropavlovsk-Kamchatskiy\n",
      "Processing Record 530 | Tongliao\n",
      "Processing Record 531 | Mackay\n",
      "Processing Record 532 | Voitsberg\n",
      "Processing Record 533 | Micoud\n",
      "Processing Record 534 | Chupa\n",
      "Processing Record 535 | Marsabit\n",
      "Processing Record 536 | Ballangen\n",
      "Processing Record 537 | Tarancón\n",
      "Processing Record 538 | Alice Springs\n",
      "Processing Record 539 | Kargasok\n",
      "Processing Record 540 | Strezhevoy\n",
      "Processing Record 541 | Saint-Augustin\n",
      "Processing Record 542 | Havøysund\n",
      "Processing Record 543 | Banff\n",
      "Processing Record 544 | Turbat\n",
      "Processing Record 545 | Kilrush\n",
      "Processing Record 546 | Progreso\n",
      "Processing Record 547 | Alindao\n",
      "Processing Record 548 | Ryōtsu-minato\n",
      "Processing Record 549 | Vanimo\n",
      "Processing Record 550 | Necochea\n",
      "Processing Record 551 | Åmot\n",
      "Processing Record 552 | Palencia\n",
      "Processing Record 553 | Pontianak\n",
      "-------------------------------\n",
      "Data Retrieval Complete\n",
      "-------------------------------\n"
     ]
    }
   ],
   "source": [
    "# Set Up Lists to Hold Reponse Info\n",
    "city_name = []\n",
    "latitude = []\n",
    "longitude = []\n",
    "max_temperature = []\n",
    "humidity = []\n",
    "cloudiness = []\n",
    "wind_speed = []\n",
    "country = []\n",
    "date = []\n",
    "\n",
    "# Processing Record Counter Starting a 1\n",
    "processing_record = 1\n",
    "\n",
    "# Print Starting Log Statement\n",
    "print(f\"Beginning Data Retrieval\")\n",
    "print(f\"-------------------------------\")\n",
    "\n",
    "# Loop Through List of Cities & Perform a Request for Data on Each\n",
    "for city in cities:\n",
    "\n",
    "# Exception Handling\n",
    "    try:\n",
    "        response = requests.get(query_url + city).json()\n",
    "        city_name.append(response[\"name\"])\n",
    "        country.append(response[\"sys\"][\"country\"])\n",
    "        date.append(response[\"dt\"])\n",
    "        latitude.append(response[\"coord\"][\"lat\"])\n",
    "        longitude.append(response[\"coord\"][\"lon\"])\n",
    "        max_temperature.append(response[\"main\"][\"temp_max\"])\n",
    "        humidity.append(response[\"main\"][\"humidity\"])\n",
    "        cloudiness.append(response[\"clouds\"][\"all\"])\n",
    "        wind_speed.append(response[\"wind\"][\"speed\"])\n",
    "        city_record = response[\"name\"]\n",
    "        print(f\"Processing Record {processing_record} | {city_record}\")\n",
    "        \n",
    "        # Increase Processing Record Counter by 1 For Each Loop\n",
    "        processing_record += 1\n",
    "        \n",
    "    except:\n",
    "        print(\"City not found. Skipping...\") \n",
    "    continue\n",
    "\n",
    "# Print Ending Log Statement\n",
    "print(f\"-------------------------------\")\n",
    "print(f\"Data Retrieval Complete\")\n",
    "print(f\"-------------------------------\")"
   ]
  },
  {
   "cell_type": "markdown",
   "metadata": {},
   "source": [
    "### Convert Raw Data to DataFrame\n",
    "* Export the city data into a .csv.\n",
    "* Display the DataFrame"
   ]
  },
  {
   "cell_type": "code",
   "execution_count": 19,
   "metadata": {},
   "outputs": [
    {
     "data": {
      "text/plain": [
       "city          553\n",
       "Lat           553\n",
       "Lng           553\n",
       "Max Temp      553\n",
       "Humidity      553\n",
       "Cloudiness    553\n",
       "Wind Speed    553\n",
       "Country       553\n",
       "Date          553\n",
       "dtype: int64"
      ]
     },
     "execution_count": 19,
     "metadata": {},
     "output_type": "execute_result"
    }
   ],
   "source": [
    "weather_dict = {\n",
    "    \"city\": city_name,\n",
    "    \"Lat\": latitude,\n",
    "    \"Lng\": longitude,\n",
    "    \"Max Temp\": max_temperature,\n",
    "    \"Humidity\": humidity,\n",
    "    \"Cloudiness\": cloudiness,\n",
    "    \"Wind Speed\": wind_speed,\n",
    "    \"Country\": country,\n",
    "    \"Date\": date\n",
    "    }\n",
    "\n",
    "weather_data = pd.DataFrame(weather_dict)\n",
    "weather_data.count()"
   ]
  },
  {
   "cell_type": "code",
   "execution_count": 20,
   "metadata": {},
   "outputs": [
    {
     "data": {
      "text/html": [
       "<div>\n",
       "<style scoped>\n",
       "    .dataframe tbody tr th:only-of-type {\n",
       "        vertical-align: middle;\n",
       "    }\n",
       "\n",
       "    .dataframe tbody tr th {\n",
       "        vertical-align: top;\n",
       "    }\n",
       "\n",
       "    .dataframe thead th {\n",
       "        text-align: right;\n",
       "    }\n",
       "</style>\n",
       "<table border=\"1\" class=\"dataframe\">\n",
       "  <thead>\n",
       "    <tr style=\"text-align: right;\">\n",
       "      <th></th>\n",
       "      <th>city</th>\n",
       "      <th>Lat</th>\n",
       "      <th>Lng</th>\n",
       "      <th>Max Temp</th>\n",
       "      <th>Humidity</th>\n",
       "      <th>Cloudiness</th>\n",
       "      <th>Wind Speed</th>\n",
       "      <th>Country</th>\n",
       "      <th>Date</th>\n",
       "    </tr>\n",
       "  </thead>\n",
       "  <tbody>\n",
       "    <tr>\n",
       "      <th>0</th>\n",
       "      <td>Carnarvon</td>\n",
       "      <td>-24.87</td>\n",
       "      <td>113.63</td>\n",
       "      <td>68.00</td>\n",
       "      <td>94</td>\n",
       "      <td>90</td>\n",
       "      <td>6.93</td>\n",
       "      <td>AU</td>\n",
       "      <td>1603061442</td>\n",
       "    </tr>\n",
       "    <tr>\n",
       "      <th>1</th>\n",
       "      <td>Nouadhibou</td>\n",
       "      <td>20.93</td>\n",
       "      <td>-17.03</td>\n",
       "      <td>80.60</td>\n",
       "      <td>47</td>\n",
       "      <td>36</td>\n",
       "      <td>17.22</td>\n",
       "      <td>MR</td>\n",
       "      <td>1603061442</td>\n",
       "    </tr>\n",
       "    <tr>\n",
       "      <th>2</th>\n",
       "      <td>Severo-Kuril'sk</td>\n",
       "      <td>50.68</td>\n",
       "      <td>156.12</td>\n",
       "      <td>49.59</td>\n",
       "      <td>78</td>\n",
       "      <td>10</td>\n",
       "      <td>11.77</td>\n",
       "      <td>RU</td>\n",
       "      <td>1603061442</td>\n",
       "    </tr>\n",
       "    <tr>\n",
       "      <th>3</th>\n",
       "      <td>Tasiilaq</td>\n",
       "      <td>65.61</td>\n",
       "      <td>-37.64</td>\n",
       "      <td>33.80</td>\n",
       "      <td>80</td>\n",
       "      <td>74</td>\n",
       "      <td>9.17</td>\n",
       "      <td>GL</td>\n",
       "      <td>1603061442</td>\n",
       "    </tr>\n",
       "    <tr>\n",
       "      <th>4</th>\n",
       "      <td>East London</td>\n",
       "      <td>-33.02</td>\n",
       "      <td>27.91</td>\n",
       "      <td>62.42</td>\n",
       "      <td>74</td>\n",
       "      <td>32</td>\n",
       "      <td>4.54</td>\n",
       "      <td>ZA</td>\n",
       "      <td>1603061442</td>\n",
       "    </tr>\n",
       "  </tbody>\n",
       "</table>\n",
       "</div>"
      ],
      "text/plain": [
       "              city    Lat     Lng  Max Temp  Humidity  Cloudiness  Wind Speed  \\\n",
       "0        Carnarvon -24.87  113.63     68.00        94          90        6.93   \n",
       "1       Nouadhibou  20.93  -17.03     80.60        47          36       17.22   \n",
       "2  Severo-Kuril'sk  50.68  156.12     49.59        78          10       11.77   \n",
       "3         Tasiilaq  65.61  -37.64     33.80        80          74        9.17   \n",
       "4      East London -33.02   27.91     62.42        74          32        4.54   \n",
       "\n",
       "  Country        Date  \n",
       "0      AU  1603061442  \n",
       "1      MR  1603061442  \n",
       "2      RU  1603061442  \n",
       "3      GL  1603061442  \n",
       "4      ZA  1603061442  "
      ]
     },
     "execution_count": 20,
     "metadata": {},
     "output_type": "execute_result"
    }
   ],
   "source": [
    "# Display the dataframe\n",
    "weather_data.head()"
   ]
  },
  {
   "cell_type": "code",
   "execution_count": 21,
   "metadata": {},
   "outputs": [],
   "source": [
    "# Export & save data into a .csv.\n",
    "weather_data.to_csv(\"./Data/weather_data.csv\")"
   ]
  },
  {
   "cell_type": "code",
   "execution_count": 22,
   "metadata": {},
   "outputs": [
    {
     "data": {
      "text/html": [
       "<div>\n",
       "<style scoped>\n",
       "    .dataframe tbody tr th:only-of-type {\n",
       "        vertical-align: middle;\n",
       "    }\n",
       "\n",
       "    .dataframe tbody tr th {\n",
       "        vertical-align: top;\n",
       "    }\n",
       "\n",
       "    .dataframe thead th {\n",
       "        text-align: right;\n",
       "    }\n",
       "</style>\n",
       "<table border=\"1\" class=\"dataframe\">\n",
       "  <thead>\n",
       "    <tr style=\"text-align: right;\">\n",
       "      <th></th>\n",
       "      <th>Lat</th>\n",
       "      <th>Lng</th>\n",
       "      <th>Max Temp</th>\n",
       "      <th>Humidity</th>\n",
       "      <th>Cloudiness</th>\n",
       "      <th>Wind Speed</th>\n",
       "      <th>Date</th>\n",
       "    </tr>\n",
       "  </thead>\n",
       "  <tbody>\n",
       "    <tr>\n",
       "      <th>count</th>\n",
       "      <td>553.000000</td>\n",
       "      <td>553.000000</td>\n",
       "      <td>553.000000</td>\n",
       "      <td>553.000000</td>\n",
       "      <td>553.000000</td>\n",
       "      <td>553.000000</td>\n",
       "      <td>5.530000e+02</td>\n",
       "    </tr>\n",
       "    <tr>\n",
       "      <th>mean</th>\n",
       "      <td>18.896148</td>\n",
       "      <td>17.502984</td>\n",
       "      <td>61.107161</td>\n",
       "      <td>73.719711</td>\n",
       "      <td>54.358047</td>\n",
       "      <td>7.610633</td>\n",
       "      <td>1.603061e+09</td>\n",
       "    </tr>\n",
       "    <tr>\n",
       "      <th>std</th>\n",
       "      <td>32.819680</td>\n",
       "      <td>90.601698</td>\n",
       "      <td>19.645163</td>\n",
       "      <td>20.338599</td>\n",
       "      <td>38.228080</td>\n",
       "      <td>5.359593</td>\n",
       "      <td>7.212210e+01</td>\n",
       "    </tr>\n",
       "    <tr>\n",
       "      <th>min</th>\n",
       "      <td>-54.800000</td>\n",
       "      <td>-175.200000</td>\n",
       "      <td>7.180000</td>\n",
       "      <td>1.000000</td>\n",
       "      <td>0.000000</td>\n",
       "      <td>0.130000</td>\n",
       "      <td>1.603061e+09</td>\n",
       "    </tr>\n",
       "    <tr>\n",
       "      <th>25%</th>\n",
       "      <td>-8.480000</td>\n",
       "      <td>-60.620000</td>\n",
       "      <td>45.450000</td>\n",
       "      <td>65.000000</td>\n",
       "      <td>15.000000</td>\n",
       "      <td>3.670000</td>\n",
       "      <td>1.603061e+09</td>\n",
       "    </tr>\n",
       "    <tr>\n",
       "      <th>50%</th>\n",
       "      <td>20.700000</td>\n",
       "      <td>21.700000</td>\n",
       "      <td>65.530000</td>\n",
       "      <td>78.000000</td>\n",
       "      <td>66.000000</td>\n",
       "      <td>6.710000</td>\n",
       "      <td>1.603061e+09</td>\n",
       "    </tr>\n",
       "    <tr>\n",
       "      <th>75%</th>\n",
       "      <td>47.670000</td>\n",
       "      <td>97.520000</td>\n",
       "      <td>77.610000</td>\n",
       "      <td>88.000000</td>\n",
       "      <td>90.000000</td>\n",
       "      <td>9.640000</td>\n",
       "      <td>1.603062e+09</td>\n",
       "    </tr>\n",
       "    <tr>\n",
       "      <th>max</th>\n",
       "      <td>78.220000</td>\n",
       "      <td>178.420000</td>\n",
       "      <td>93.200000</td>\n",
       "      <td>100.000000</td>\n",
       "      <td>100.000000</td>\n",
       "      <td>37.850000</td>\n",
       "      <td>1.603062e+09</td>\n",
       "    </tr>\n",
       "  </tbody>\n",
       "</table>\n",
       "</div>"
      ],
      "text/plain": [
       "              Lat         Lng    Max Temp    Humidity  Cloudiness  Wind Speed  \\\n",
       "count  553.000000  553.000000  553.000000  553.000000  553.000000  553.000000   \n",
       "mean    18.896148   17.502984   61.107161   73.719711   54.358047    7.610633   \n",
       "std     32.819680   90.601698   19.645163   20.338599   38.228080    5.359593   \n",
       "min    -54.800000 -175.200000    7.180000    1.000000    0.000000    0.130000   \n",
       "25%     -8.480000  -60.620000   45.450000   65.000000   15.000000    3.670000   \n",
       "50%     20.700000   21.700000   65.530000   78.000000   66.000000    6.710000   \n",
       "75%     47.670000   97.520000   77.610000   88.000000   90.000000    9.640000   \n",
       "max     78.220000  178.420000   93.200000  100.000000  100.000000   37.850000   \n",
       "\n",
       "               Date  \n",
       "count  5.530000e+02  \n",
       "mean   1.603061e+09  \n",
       "std    7.212210e+01  \n",
       "min    1.603061e+09  \n",
       "25%    1.603061e+09  \n",
       "50%    1.603061e+09  \n",
       "75%    1.603062e+09  \n",
       "max    1.603062e+09  "
      ]
     },
     "execution_count": 22,
     "metadata": {},
     "output_type": "execute_result"
    }
   ],
   "source": [
    "# Display key statistics of the dataframe\n",
    "weather_data.describe()"
   ]
  },
  {
   "cell_type": "markdown",
   "metadata": {},
   "source": [
    "## Inspect the data and remove the cities where the humidity > 100%.\n",
    "----\n",
    "Skip this step if there are no cities that have humidity > 100%. "
   ]
  },
  {
   "cell_type": "code",
   "execution_count": 23,
   "metadata": {},
   "outputs": [],
   "source": [
    "# Based on the max row, there are no cities where the humidity is > 100%"
   ]
  },
  {
   "cell_type": "markdown",
   "metadata": {},
   "source": [
    "## Plotting the Data\n",
    "* Use proper labeling of the plots using plot titles (including date of analysis) and axes labels.\n",
    "* Save the plotted figures as .pngs."
   ]
  },
  {
   "cell_type": "markdown",
   "metadata": {},
   "source": [
    "## Latitude vs. Temperature Plot"
   ]
  },
  {
   "cell_type": "code",
   "execution_count": 38,
   "metadata": {
    "scrolled": true
   },
   "outputs": [
    {
     "data": {
      "image/png": "[encoded data removed]",
      "text/plain": [
       "<Figure size 432x288 with 1 Axes>"
      ]
     },
     "metadata": {
      "needs_background": "light"
     },
     "output_type": "display_data"
    }
   ],
   "source": [
    "# Build Scatter Plot for Each Data Type\n",
    "plt.scatter(weather_data[\"Lat\"], weather_data[\"Max Temp\"], facecolors=\"blue\", marker=\"o\", edgecolor=\"black\")\n",
    "\n",
    "# Incorporate Other Graph Properties\n",
    "plt.title(\"City Latitude vs. Max Temperature (10/18/2020)\")\n",
    "plt.ylabel(\"Max Temperature (°F)\")\n",
    "plt.xlabel(\"Latitude\")\n",
    "plt.grid(True)\n",
    "\n",
    "# Save Figure\n",
    "plt.savefig(\"./Data/City_Latitude_vs_Max_Temperature.png\")\n",
    "\n",
    "# Show Plot\n",
    "plt.show()"
   ]
  },
  {
   "cell_type": "markdown",
   "metadata": {},
   "source": [
    "## Latitude vs. Humidity Plot"
   ]
  },
  {
   "cell_type": "code",
   "execution_count": 35,
   "metadata": {},
   "outputs": [
    {
     "data": {
      "image/png": "[encoded data removed]",
      "text/plain": [
       "<Figure size 432x288 with 1 Axes>"
      ]
     },
     "metadata": {
      "needs_background": "light"
     },
     "output_type": "display_data"
    }
   ],
   "source": [
    "# Build Scatter Plot for Each Data Type\n",
    "plt.scatter(weather_data[\"Lat\"], weather_data[\"Humidity\"], facecolors=\"red\", marker=\"o\", edgecolor=\"black\")\n",
    "\n",
    "# Incorporate Other Graph Properties\n",
    "plt.title(\"City Latitude vs. Humidity (10/18/2020)\")\n",
    "plt.ylabel(\"Humidity (%)\")\n",
    "plt.xlabel(\"Latitude\")\n",
    "plt.grid(True)\n",
    "\n",
    "# Save Figure\n",
    "plt.savefig(\"./Data/City_Latitude_vs_Humidity.png\")\n",
    "\n",
    "# Show Plot\n",
    "plt.show()"
   ]
  },
  {
   "cell_type": "markdown",
   "metadata": {},
   "source": [
    "## Latitude vs. Cloudiness Plot"
   ]
  },
  {
   "cell_type": "code",
   "execution_count": 36,
   "metadata": {},
   "outputs": [
    {
     "data": {
      "image/png": "[encoded data removed]",
      "text/plain": [
       "<Figure size 432x288 with 1 Axes>"
      ]
     },
     "metadata": {
      "needs_background": "light"
     },
     "output_type": "display_data"
    }
   ],
   "source": [
    "# Build Scatter Plot for Each Data Type\n",
    "plt.scatter(weather_data[\"Lat\"], weather_data[\"Humidity\"], facecolors=\"green\", marker=\"o\", edgecolor=\"black\")\n",
    "\n",
    "# Incorporate Other Graph Properties\n",
    "plt.title(\"City Latitude vs. Cloudiness (10/18/2020)\")\n",
    "plt.ylabel(\"Cloudiness(%)\")\n",
    "plt.xlabel(\"Latitude\")\n",
    "plt.grid(True)\n",
    "\n",
    "# Save Figure\n",
    "plt.savefig(\"./Data/City_Latitude_vs_Cloudiness.png\")\n",
    "\n",
    "# Show Plot\n",
    "plt.show()"
   ]
  },
  {
   "cell_type": "markdown",
   "metadata": {},
   "source": [
    "## Latitude vs. Wind Speed Plot"
   ]
  },
  {
   "cell_type": "code",
   "execution_count": 39,
   "metadata": {},
   "outputs": [
    {
     "data": {
      "image/png": "[encoded data removed]",
      "text/plain": [
       "<Figure size 432x288 with 1 Axes>"
      ]
     },
     "metadata": {
      "needs_background": "light"
     },
     "output_type": "display_data"
    }
   ],
   "source": [
    "# Build Scatter Plot for Each Data Type\n",
    "plt.scatter(weather_data[\"Lat\"], weather_data[\"Wind Speed\"], facecolors=\"orange\", marker=\"o\", edgecolor=\"black\")\n",
    "\n",
    "# Incorporate Other Graph Properties\n",
    "plt.title(\"City Latitude vs. Wind Speed (10/18/2020)\")\n",
    "plt.ylabel(\"Wind Speed (mph)\")\n",
    "plt.xlabel(\"Latitude\")\n",
    "plt.grid(True)\n",
    "\n",
    "# Save Figure\n",
    "plt.savefig(\"./Data/City_Latitude_vs_Wind_Speed.png\")\n",
    "\n",
    "# Show Plot\n",
    "plt.show()"
   ]
  },
  {
   "cell_type": "markdown",
   "metadata": {},
   "source": [
    "## Linear Regression"
   ]
  },
  {
   "cell_type": "markdown",
   "metadata": {},
   "source": [
    "Your second requirement is to run linear regression on each relationship, only this time separating them into Northern Hemisphere (greater than or equal to 0 degrees latitude) and Southern Hemisphere (less than 0 degrees latitude):\n",
    "\n",
    "* Northern Hemisphere - Temperature (F) vs. Latitude\n",
    "* Southern Hemisphere - Temperature (F) vs. Latitude\n",
    "* Northern Hemisphere - Humidity (%) vs. Latitude\n",
    "* Southern Hemisphere - Humidity (%) vs. Latitude\n",
    "* Northern Hemisphere - Cloudiness (%) vs. Latitude\n",
    "* Southern Hemisphere - Cloudiness (%) vs. Latitude\n",
    "* Northern Hemisphere - Wind Speed (mph) vs. Latitude\n",
    "* Southern Hemisphere - Wind Speed (mph) vs. Latitude\n",
    "\n",
    "After each pair of plots explain what the linear regression is modeling such as any relationships you notice and any other analysis you may have."
   ]
  },
  {
   "cell_type": "markdown",
   "metadata": {},
   "source": [
    "####  Northern Hemisphere - Max Temp vs. Latitude Linear Regression"
   ]
  },
  {
   "cell_type": "code",
   "execution_count": 114,
   "metadata": {},
   "outputs": [],
   "source": [
    "# Define plotting function:\n",
    "def plot_linear_regression(x_values, y_values, title, text_coordinates):\n",
    "    (slope, intercept, rvalue, pvalue, stderr) = linregress(x_values, y_values)\n",
    "    regress_values = x_values * slope + intercept\n",
    "    line_eq = \"y = \" + str(round(slope,2)) + \"x + \" + str(round(intercept,2))\n",
    "    \n",
    "    plt.scatter(x_values,y_values)\n",
    "    plt.plot(x_values,regress_values,\"r-\")\n",
    "    plt.annotate(line_eq,text_coordinates,fontsize=14,color=\"red\")\n",
    "    plt.xlabel(\"Latitude\")\n",
    "    plt.ylabel(title)\n",
    "    print(f\"The r-squared is: {rvalue}\")\n",
    "    plt.show()"
   ]
  },
  {
   "cell_type": "code",
   "execution_count": 115,
   "metadata": {},
   "outputs": [],
   "source": [
    "# Create Northern and Southern Hemisphere DataFrames\n",
    "northlat_df = weather_data.loc[weather_data[\"Lat\"] >= 0,:]\n",
    "southlat_df = weather_data.loc[weather_data[\"Lat\"] < 0,:]"
   ]
  },
  {
   "cell_type": "code",
   "execution_count": 116,
   "metadata": {},
   "outputs": [
    {
     "data": {
      "text/html": [
       "<div>\n",
       "<style scoped>\n",
       "    .dataframe tbody tr th:only-of-type {\n",
       "        vertical-align: middle;\n",
       "    }\n",
       "\n",
       "    .dataframe tbody tr th {\n",
       "        vertical-align: top;\n",
       "    }\n",
       "\n",
       "    .dataframe thead th {\n",
       "        text-align: right;\n",
       "    }\n",
       "</style>\n",
       "<table border=\"1\" class=\"dataframe\">\n",
       "  <thead>\n",
       "    <tr style=\"text-align: right;\">\n",
       "      <th></th>\n",
       "      <th>city</th>\n",
       "      <th>Lat</th>\n",
       "      <th>Lng</th>\n",
       "      <th>Max Temp</th>\n",
       "      <th>Humidity</th>\n",
       "      <th>Cloudiness</th>\n",
       "      <th>Wind Speed</th>\n",
       "      <th>Country</th>\n",
       "      <th>Date</th>\n",
       "    </tr>\n",
       "  </thead>\n",
       "  <tbody>\n",
       "    <tr>\n",
       "      <th>1</th>\n",
       "      <td>Nouadhibou</td>\n",
       "      <td>20.93</td>\n",
       "      <td>-17.03</td>\n",
       "      <td>80.60</td>\n",
       "      <td>47</td>\n",
       "      <td>36</td>\n",
       "      <td>17.22</td>\n",
       "      <td>MR</td>\n",
       "      <td>1603061442</td>\n",
       "    </tr>\n",
       "    <tr>\n",
       "      <th>2</th>\n",
       "      <td>Severo-Kuril'sk</td>\n",
       "      <td>50.68</td>\n",
       "      <td>156.12</td>\n",
       "      <td>49.59</td>\n",
       "      <td>78</td>\n",
       "      <td>10</td>\n",
       "      <td>11.77</td>\n",
       "      <td>RU</td>\n",
       "      <td>1603061442</td>\n",
       "    </tr>\n",
       "    <tr>\n",
       "      <th>3</th>\n",
       "      <td>Tasiilaq</td>\n",
       "      <td>65.61</td>\n",
       "      <td>-37.64</td>\n",
       "      <td>33.80</td>\n",
       "      <td>80</td>\n",
       "      <td>74</td>\n",
       "      <td>9.17</td>\n",
       "      <td>GL</td>\n",
       "      <td>1603061442</td>\n",
       "    </tr>\n",
       "    <tr>\n",
       "      <th>5</th>\n",
       "      <td>Meulaboh</td>\n",
       "      <td>4.14</td>\n",
       "      <td>96.13</td>\n",
       "      <td>75.88</td>\n",
       "      <td>82</td>\n",
       "      <td>100</td>\n",
       "      <td>4.45</td>\n",
       "      <td>ID</td>\n",
       "      <td>1603061443</td>\n",
       "    </tr>\n",
       "    <tr>\n",
       "      <th>8</th>\n",
       "      <td>Shimoda</td>\n",
       "      <td>34.67</td>\n",
       "      <td>138.95</td>\n",
       "      <td>55.99</td>\n",
       "      <td>70</td>\n",
       "      <td>83</td>\n",
       "      <td>12.46</td>\n",
       "      <td>JP</td>\n",
       "      <td>1603061443</td>\n",
       "    </tr>\n",
       "    <tr>\n",
       "      <th>10</th>\n",
       "      <td>Jamestown</td>\n",
       "      <td>42.10</td>\n",
       "      <td>-79.24</td>\n",
       "      <td>52.00</td>\n",
       "      <td>87</td>\n",
       "      <td>90</td>\n",
       "      <td>8.05</td>\n",
       "      <td>US</td>\n",
       "      <td>1603061164</td>\n",
       "    </tr>\n",
       "    <tr>\n",
       "      <th>11</th>\n",
       "      <td>Kapaa</td>\n",
       "      <td>22.08</td>\n",
       "      <td>-159.32</td>\n",
       "      <td>84.00</td>\n",
       "      <td>69</td>\n",
       "      <td>90</td>\n",
       "      <td>14.99</td>\n",
       "      <td>US</td>\n",
       "      <td>1603061257</td>\n",
       "    </tr>\n",
       "    <tr>\n",
       "      <th>13</th>\n",
       "      <td>Bilibino</td>\n",
       "      <td>68.05</td>\n",
       "      <td>166.44</td>\n",
       "      <td>17.96</td>\n",
       "      <td>95</td>\n",
       "      <td>92</td>\n",
       "      <td>2.15</td>\n",
       "      <td>RU</td>\n",
       "      <td>1603061444</td>\n",
       "    </tr>\n",
       "    <tr>\n",
       "      <th>14</th>\n",
       "      <td>La Palma</td>\n",
       "      <td>33.85</td>\n",
       "      <td>-118.05</td>\n",
       "      <td>84.99</td>\n",
       "      <td>42</td>\n",
       "      <td>1</td>\n",
       "      <td>6.93</td>\n",
       "      <td>US</td>\n",
       "      <td>1603061152</td>\n",
       "    </tr>\n",
       "    <tr>\n",
       "      <th>17</th>\n",
       "      <td>Yellowknife</td>\n",
       "      <td>62.46</td>\n",
       "      <td>-114.35</td>\n",
       "      <td>28.00</td>\n",
       "      <td>86</td>\n",
       "      <td>90</td>\n",
       "      <td>8.05</td>\n",
       "      <td>CA</td>\n",
       "      <td>1603061167</td>\n",
       "    </tr>\n",
       "    <tr>\n",
       "      <th>18</th>\n",
       "      <td>Barrow</td>\n",
       "      <td>71.29</td>\n",
       "      <td>-156.79</td>\n",
       "      <td>21.20</td>\n",
       "      <td>85</td>\n",
       "      <td>75</td>\n",
       "      <td>12.75</td>\n",
       "      <td>US</td>\n",
       "      <td>1603061445</td>\n",
       "    </tr>\n",
       "    <tr>\n",
       "      <th>22</th>\n",
       "      <td>Hilo</td>\n",
       "      <td>19.73</td>\n",
       "      <td>-155.09</td>\n",
       "      <td>78.80</td>\n",
       "      <td>83</td>\n",
       "      <td>90</td>\n",
       "      <td>5.82</td>\n",
       "      <td>US</td>\n",
       "      <td>1603061445</td>\n",
       "    </tr>\n",
       "    <tr>\n",
       "      <th>24</th>\n",
       "      <td>Albany</td>\n",
       "      <td>42.60</td>\n",
       "      <td>-73.97</td>\n",
       "      <td>57.00</td>\n",
       "      <td>55</td>\n",
       "      <td>97</td>\n",
       "      <td>7.25</td>\n",
       "      <td>US</td>\n",
       "      <td>1603061258</td>\n",
       "    </tr>\n",
       "    <tr>\n",
       "      <th>26</th>\n",
       "      <td>Nur-Sultan</td>\n",
       "      <td>51.18</td>\n",
       "      <td>71.45</td>\n",
       "      <td>24.80</td>\n",
       "      <td>79</td>\n",
       "      <td>7</td>\n",
       "      <td>4.47</td>\n",
       "      <td>KZ</td>\n",
       "      <td>1603061446</td>\n",
       "    </tr>\n",
       "    <tr>\n",
       "      <th>27</th>\n",
       "      <td>Melbu</td>\n",
       "      <td>68.50</td>\n",
       "      <td>14.83</td>\n",
       "      <td>36.00</td>\n",
       "      <td>71</td>\n",
       "      <td>13</td>\n",
       "      <td>8.01</td>\n",
       "      <td>NO</td>\n",
       "      <td>1603061446</td>\n",
       "    </tr>\n",
       "  </tbody>\n",
       "</table>\n",
       "</div>"
      ],
      "text/plain": [
       "               city    Lat     Lng  Max Temp  Humidity  Cloudiness  \\\n",
       "1        Nouadhibou  20.93  -17.03     80.60        47          36   \n",
       "2   Severo-Kuril'sk  50.68  156.12     49.59        78          10   \n",
       "3          Tasiilaq  65.61  -37.64     33.80        80          74   \n",
       "5          Meulaboh   4.14   96.13     75.88        82         100   \n",
       "8           Shimoda  34.67  138.95     55.99        70          83   \n",
       "10        Jamestown  42.10  -79.24     52.00        87          90   \n",
       "11            Kapaa  22.08 -159.32     84.00        69          90   \n",
       "13         Bilibino  68.05  166.44     17.96        95          92   \n",
       "14         La Palma  33.85 -118.05     84.99        42           1   \n",
       "17      Yellowknife  62.46 -114.35     28.00        86          90   \n",
       "18           Barrow  71.29 -156.79     21.20        85          75   \n",
       "22             Hilo  19.73 -155.09     78.80        83          90   \n",
       "24           Albany  42.60  -73.97     57.00        55          97   \n",
       "26       Nur-Sultan  51.18   71.45     24.80        79           7   \n",
       "27            Melbu  68.50   14.83     36.00        71          13   \n",
       "\n",
       "    Wind Speed Country        Date  \n",
       "1        17.22      MR  1603061442  \n",
       "2        11.77      RU  1603061442  \n",
       "3         9.17      GL  1603061442  \n",
       "5         4.45      ID  1603061443  \n",
       "8        12.46      JP  1603061443  \n",
       "10        8.05      US  1603061164  \n",
       "11       14.99      US  1603061257  \n",
       "13        2.15      RU  1603061444  \n",
       "14        6.93      US  1603061152  \n",
       "17        8.05      CA  1603061167  \n",
       "18       12.75      US  1603061445  \n",
       "22        5.82      US  1603061445  \n",
       "24        7.25      US  1603061258  \n",
       "26        4.47      KZ  1603061446  \n",
       "27        8.01      NO  1603061446  "
      ]
     },
     "execution_count": 116,
     "metadata": {},
     "output_type": "execute_result"
    }
   ],
   "source": [
    "# Display the Northern Hemisphere Dataframe\n",
    "northlat_df.head(15)"
   ]
  },
  {
   "cell_type": "code",
   "execution_count": 117,
   "metadata": {},
   "outputs": [
    {
     "data": {
      "text/html": [
       "<div>\n",
       "<style scoped>\n",
       "    .dataframe tbody tr th:only-of-type {\n",
       "        vertical-align: middle;\n",
       "    }\n",
       "\n",
       "    .dataframe tbody tr th {\n",
       "        vertical-align: top;\n",
       "    }\n",
       "\n",
       "    .dataframe thead th {\n",
       "        text-align: right;\n",
       "    }\n",
       "</style>\n",
       "<table border=\"1\" class=\"dataframe\">\n",
       "  <thead>\n",
       "    <tr style=\"text-align: right;\">\n",
       "      <th></th>\n",
       "      <th>city</th>\n",
       "      <th>Lat</th>\n",
       "      <th>Lng</th>\n",
       "      <th>Max Temp</th>\n",
       "      <th>Humidity</th>\n",
       "      <th>Cloudiness</th>\n",
       "      <th>Wind Speed</th>\n",
       "      <th>Country</th>\n",
       "      <th>Date</th>\n",
       "    </tr>\n",
       "  </thead>\n",
       "  <tbody>\n",
       "    <tr>\n",
       "      <th>0</th>\n",
       "      <td>Carnarvon</td>\n",
       "      <td>-24.87</td>\n",
       "      <td>113.63</td>\n",
       "      <td>68.00</td>\n",
       "      <td>94</td>\n",
       "      <td>90</td>\n",
       "      <td>6.93</td>\n",
       "      <td>AU</td>\n",
       "      <td>1603061442</td>\n",
       "    </tr>\n",
       "    <tr>\n",
       "      <th>4</th>\n",
       "      <td>East London</td>\n",
       "      <td>-33.02</td>\n",
       "      <td>27.91</td>\n",
       "      <td>62.42</td>\n",
       "      <td>74</td>\n",
       "      <td>32</td>\n",
       "      <td>4.54</td>\n",
       "      <td>ZA</td>\n",
       "      <td>1603061442</td>\n",
       "    </tr>\n",
       "    <tr>\n",
       "      <th>6</th>\n",
       "      <td>Bluff</td>\n",
       "      <td>-46.60</td>\n",
       "      <td>168.33</td>\n",
       "      <td>48.99</td>\n",
       "      <td>94</td>\n",
       "      <td>100</td>\n",
       "      <td>5.01</td>\n",
       "      <td>NZ</td>\n",
       "      <td>1603061443</td>\n",
       "    </tr>\n",
       "    <tr>\n",
       "      <th>7</th>\n",
       "      <td>Tuatapere</td>\n",
       "      <td>-46.13</td>\n",
       "      <td>167.68</td>\n",
       "      <td>48.99</td>\n",
       "      <td>94</td>\n",
       "      <td>100</td>\n",
       "      <td>5.01</td>\n",
       "      <td>NZ</td>\n",
       "      <td>1603061443</td>\n",
       "    </tr>\n",
       "    <tr>\n",
       "      <th>9</th>\n",
       "      <td>Carutapera</td>\n",
       "      <td>-1.20</td>\n",
       "      <td>-46.02</td>\n",
       "      <td>78.42</td>\n",
       "      <td>81</td>\n",
       "      <td>100</td>\n",
       "      <td>6.82</td>\n",
       "      <td>BR</td>\n",
       "      <td>1603061443</td>\n",
       "    </tr>\n",
       "    <tr>\n",
       "      <th>12</th>\n",
       "      <td>Cape Town</td>\n",
       "      <td>-33.93</td>\n",
       "      <td>18.42</td>\n",
       "      <td>61.00</td>\n",
       "      <td>82</td>\n",
       "      <td>81</td>\n",
       "      <td>8.05</td>\n",
       "      <td>ZA</td>\n",
       "      <td>1603061339</td>\n",
       "    </tr>\n",
       "    <tr>\n",
       "      <th>15</th>\n",
       "      <td>Punta Arenas</td>\n",
       "      <td>-53.15</td>\n",
       "      <td>-70.92</td>\n",
       "      <td>42.80</td>\n",
       "      <td>56</td>\n",
       "      <td>40</td>\n",
       "      <td>19.46</td>\n",
       "      <td>CL</td>\n",
       "      <td>1603061444</td>\n",
       "    </tr>\n",
       "    <tr>\n",
       "      <th>16</th>\n",
       "      <td>Mar del Plata</td>\n",
       "      <td>-38.00</td>\n",
       "      <td>-57.56</td>\n",
       "      <td>68.00</td>\n",
       "      <td>88</td>\n",
       "      <td>75</td>\n",
       "      <td>4.70</td>\n",
       "      <td>AR</td>\n",
       "      <td>1603061337</td>\n",
       "    </tr>\n",
       "    <tr>\n",
       "      <th>19</th>\n",
       "      <td>Atuona</td>\n",
       "      <td>-9.80</td>\n",
       "      <td>-139.03</td>\n",
       "      <td>78.12</td>\n",
       "      <td>75</td>\n",
       "      <td>3</td>\n",
       "      <td>18.41</td>\n",
       "      <td>PF</td>\n",
       "      <td>1603061445</td>\n",
       "    </tr>\n",
       "    <tr>\n",
       "      <th>20</th>\n",
       "      <td>Nabire</td>\n",
       "      <td>-3.37</td>\n",
       "      <td>135.48</td>\n",
       "      <td>76.19</td>\n",
       "      <td>88</td>\n",
       "      <td>100</td>\n",
       "      <td>3.22</td>\n",
       "      <td>ID</td>\n",
       "      <td>1603061445</td>\n",
       "    </tr>\n",
       "    <tr>\n",
       "      <th>21</th>\n",
       "      <td>Mataura</td>\n",
       "      <td>-46.19</td>\n",
       "      <td>168.86</td>\n",
       "      <td>48.99</td>\n",
       "      <td>94</td>\n",
       "      <td>100</td>\n",
       "      <td>5.01</td>\n",
       "      <td>NZ</td>\n",
       "      <td>1603061445</td>\n",
       "    </tr>\n",
       "    <tr>\n",
       "      <th>23</th>\n",
       "      <td>Hermanus</td>\n",
       "      <td>-34.42</td>\n",
       "      <td>19.23</td>\n",
       "      <td>59.00</td>\n",
       "      <td>87</td>\n",
       "      <td>100</td>\n",
       "      <td>7.56</td>\n",
       "      <td>ZA</td>\n",
       "      <td>1603061299</td>\n",
       "    </tr>\n",
       "    <tr>\n",
       "      <th>25</th>\n",
       "      <td>Airai</td>\n",
       "      <td>-8.93</td>\n",
       "      <td>125.41</td>\n",
       "      <td>69.15</td>\n",
       "      <td>49</td>\n",
       "      <td>40</td>\n",
       "      <td>2.35</td>\n",
       "      <td>TL</td>\n",
       "      <td>1603061446</td>\n",
       "    </tr>\n",
       "    <tr>\n",
       "      <th>28</th>\n",
       "      <td>Tiarei</td>\n",
       "      <td>-17.53</td>\n",
       "      <td>-149.33</td>\n",
       "      <td>84.00</td>\n",
       "      <td>69</td>\n",
       "      <td>40</td>\n",
       "      <td>10.29</td>\n",
       "      <td>PF</td>\n",
       "      <td>1603061446</td>\n",
       "    </tr>\n",
       "    <tr>\n",
       "      <th>29</th>\n",
       "      <td>Avarua</td>\n",
       "      <td>-21.21</td>\n",
       "      <td>-159.78</td>\n",
       "      <td>80.60</td>\n",
       "      <td>74</td>\n",
       "      <td>73</td>\n",
       "      <td>8.05</td>\n",
       "      <td>CK</td>\n",
       "      <td>1603061447</td>\n",
       "    </tr>\n",
       "  </tbody>\n",
       "</table>\n",
       "</div>"
      ],
      "text/plain": [
       "             city    Lat     Lng  Max Temp  Humidity  Cloudiness  Wind Speed  \\\n",
       "0       Carnarvon -24.87  113.63     68.00        94          90        6.93   \n",
       "4     East London -33.02   27.91     62.42        74          32        4.54   \n",
       "6           Bluff -46.60  168.33     48.99        94         100        5.01   \n",
       "7       Tuatapere -46.13  167.68     48.99        94         100        5.01   \n",
       "9      Carutapera  -1.20  -46.02     78.42        81         100        6.82   \n",
       "12      Cape Town -33.93   18.42     61.00        82          81        8.05   \n",
       "15   Punta Arenas -53.15  -70.92     42.80        56          40       19.46   \n",
       "16  Mar del Plata -38.00  -57.56     68.00        88          75        4.70   \n",
       "19         Atuona  -9.80 -139.03     78.12        75           3       18.41   \n",
       "20         Nabire  -3.37  135.48     76.19        88         100        3.22   \n",
       "21        Mataura -46.19  168.86     48.99        94         100        5.01   \n",
       "23       Hermanus -34.42   19.23     59.00        87         100        7.56   \n",
       "25          Airai  -8.93  125.41     69.15        49          40        2.35   \n",
       "28         Tiarei -17.53 -149.33     84.00        69          40       10.29   \n",
       "29         Avarua -21.21 -159.78     80.60        74          73        8.05   \n",
       "\n",
       "   Country        Date  \n",
       "0       AU  1603061442  \n",
       "4       ZA  1603061442  \n",
       "6       NZ  1603061443  \n",
       "7       NZ  1603061443  \n",
       "9       BR  1603061443  \n",
       "12      ZA  1603061339  \n",
       "15      CL  1603061444  \n",
       "16      AR  1603061337  \n",
       "19      PF  1603061445  \n",
       "20      ID  1603061445  \n",
       "21      NZ  1603061445  \n",
       "23      ZA  1603061299  \n",
       "25      TL  1603061446  \n",
       "28      PF  1603061446  \n",
       "29      CK  1603061447  "
      ]
     },
     "execution_count": 117,
     "metadata": {},
     "output_type": "execute_result"
    }
   ],
   "source": [
    "# Display the Southern Hemisphere Dataframe\n",
    "southlat_df.head(15)"
   ]
  },
  {
   "cell_type": "code",
   "execution_count": 118,
   "metadata": {},
   "outputs": [
    {
     "name": "stdout",
     "output_type": "stream",
     "text": [
      "The r-squared is: -0.8606807094017108\n"
     ]
    },
    {
     "data": {
      "image/png": "[encoded data removed]",
      "text/plain": [
       "<Figure size 432x288 with 1 Axes>"
      ]
     },
     "metadata": {
      "needs_background": "light"
     },
     "output_type": "display_data"
    },
    {
     "data": {
      "text/plain": [
       "<Figure size 432x288 with 0 Axes>"
      ]
     },
     "metadata": {},
     "output_type": "display_data"
    }
   ],
   "source": [
    "# Build the Plot\n",
    "x_values = northlat_df[\"Lat\"]\n",
    "y_values = northlat_df[\"Max Temp\"]\n",
    "plot_linear_regression(x_values,y_values,'Max Temp',(6,30))\n",
    "\n",
    "# Save Figure\n",
    "plt.savefig(\"./Data/North_Lat_Temp.png\")\n",
    "\n",
    "# Show Plot\n",
    "plt.show()"
   ]
  },
  {
   "cell_type": "markdown",
   "metadata": {},
   "source": [
    "####  Southern Hemisphere - Max Temp vs. Latitude Linear Regression"
   ]
  },
  {
   "cell_type": "code",
   "execution_count": 120,
   "metadata": {},
   "outputs": [
    {
     "name": "stdout",
     "output_type": "stream",
     "text": [
      "The r-squared is: 0.7208089435709892\n"
     ]
    },
    {
     "data": {
      "image/png": "[encoded data removed]",
      "text/plain": [
       "<Figure size 432x288 with 1 Axes>"
      ]
     },
     "metadata": {
      "needs_background": "light"
     },
     "output_type": "display_data"
    },
    {
     "data": {
      "text/plain": [
       "<Figure size 432x288 with 0 Axes>"
      ]
     },
     "metadata": {},
     "output_type": "display_data"
    }
   ],
   "source": [
    "# Build the Plot\n",
    "x_values = southlat_df[\"Lat\"]\n",
    "y_values = southlat_df[\"Max Temp\"]\n",
    "plot_linear_regression(x_values,y_values,'Max Temp',(6,30))\n",
    "\n",
    "# Save Figure\n",
    "plt.savefig(\"./Data/South_Lat_Temp\")\n",
    "\n",
    "# Show Plot\n",
    "plt.show()"
   ]
  },
  {
   "cell_type": "markdown",
   "metadata": {},
   "source": [
    "####  Northern Hemisphere - Humidity (%) vs. Latitude Linear Regression"
   ]
  },
  {
   "cell_type": "code",
   "execution_count": 108,
   "metadata": {},
   "outputs": [
    {
     "name": "stdout",
     "output_type": "stream",
     "text": [
      "The r-squared is: 0.18594683291040284\n"
     ]
    },
    {
     "data": {
      "image/png": "[encoded data removed]",
      "text/plain": [
       "<Figure size 432x288 with 1 Axes>"
      ]
     },
     "metadata": {
      "needs_background": "light"
     },
     "output_type": "display_data"
    },
    {
     "data": {
      "text/plain": [
       "<Figure size 432x288 with 0 Axes>"
      ]
     },
     "metadata": {},
     "output_type": "display_data"
    }
   ],
   "source": [
    "# Build the Plot\n",
    "x_values = northlat_df[\"Lat\"]\n",
    "y_values = northlat_df[\"Humidity\"]\n",
    "plot_linear_regression(x_values,y_values,'Humidity',(6,30))\n",
    "\n",
    "# Save Figure\n",
    "plt.savefig(\"./Data/North_Lat_Humidity.png\")\n",
    "\n",
    "# Show Plot\n",
    "plt.show()"
   ]
  },
  {
   "cell_type": "markdown",
   "metadata": {},
   "source": [
    "####  Southern Hemisphere - Humidity (%) vs. Latitude Linear Regression"
   ]
  },
  {
   "cell_type": "code",
   "execution_count": 109,
   "metadata": {},
   "outputs": [
    {
     "name": "stdout",
     "output_type": "stream",
     "text": [
      "The r-squared is: 0.033569715251620655\n"
     ]
    },
    {
     "data": {
      "image/png": "[encoded data removed]",
      "text/plain": [
       "<Figure size 432x288 with 1 Axes>"
      ]
     },
     "metadata": {
      "needs_background": "light"
     },
     "output_type": "display_data"
    },
    {
     "data": {
      "text/plain": [
       "<Figure size 432x288 with 0 Axes>"
      ]
     },
     "metadata": {},
     "output_type": "display_data"
    }
   ],
   "source": [
    "# Build the Plot\n",
    "x_values = southlat_df[\"Lat\"]\n",
    "y_values = southlat_df[\"Humidity\"]\n",
    "plot_linear_regression(x_values,y_values,'Humidity',(6,30))\n",
    "\n",
    "# Save Figure\n",
    "plt.savefig(\"./Data/South_Lat_Humidity.png\")\n",
    "\n",
    "# Show Plot\n",
    "plt.show()"
   ]
  },
  {
   "cell_type": "markdown",
   "metadata": {},
   "source": [
    "####  Northern Hemisphere - Cloudiness (%) vs. Latitude Linear Regression"
   ]
  },
  {
   "cell_type": "code",
   "execution_count": 110,
   "metadata": {},
   "outputs": [
    {
     "name": "stdout",
     "output_type": "stream",
     "text": [
      "The r-squared is: 0.09877496427072952\n"
     ]
    },
    {
     "data": {
      "image/png": "[encoded data removed]",
      "text/plain": [
       "<Figure size 432x288 with 1 Axes>"
      ]
     },
     "metadata": {
      "needs_background": "light"
     },
     "output_type": "display_data"
    },
    {
     "data": {
      "text/plain": [
       "<Figure size 432x288 with 0 Axes>"
      ]
     },
     "metadata": {},
     "output_type": "display_data"
    }
   ],
   "source": [
    "# Build the Plot\n",
    "x_values = northlat_df[\"Lat\"]\n",
    "y_values = northlat_df[\"Cloudiness\"]\n",
    "plot_linear_regression(x_values,y_values,'Cloudiness',(6,30))\n",
    "\n",
    "# Save Figure\n",
    "plt.savefig(\"./Data/North_Lat_Cloudiness.png\")\n",
    "\n",
    "# Show Plot\n",
    "plt.show()"
   ]
  },
  {
   "cell_type": "markdown",
   "metadata": {},
   "source": [
    "####  Southern Hemisphere - Cloudiness (%) vs. Latitude Linear Regression"
   ]
  },
  {
   "cell_type": "code",
   "execution_count": 111,
   "metadata": {},
   "outputs": [
    {
     "name": "stdout",
     "output_type": "stream",
     "text": [
      "The r-squared is: 0.14701070792427942\n"
     ]
    },
    {
     "data": {
      "image/png": "[encoded data removed]",
      "text/plain": [
       "<Figure size 432x288 with 1 Axes>"
      ]
     },
     "metadata": {
      "needs_background": "light"
     },
     "output_type": "display_data"
    },
    {
     "data": {
      "text/plain": [
       "<Figure size 432x288 with 0 Axes>"
      ]
     },
     "metadata": {},
     "output_type": "display_data"
    }
   ],
   "source": [
    "# Build the Plot\n",
    "x_values = southlat_df[\"Lat\"]\n",
    "y_values = southlat_df[\"Cloudiness\"]\n",
    "plot_linear_regression(x_values,y_values,'Cloudiness',(6,30))\n",
    "\n",
    "# Save Figure\n",
    "plt.savefig(\"./Data/South_Lat_Cloudiness.png\")\n",
    "\n",
    "# Show Plot\n",
    "plt.show()"
   ]
  },
  {
   "cell_type": "markdown",
   "metadata": {},
   "source": [
    "####  Northern Hemisphere - Wind Speed (mph) vs. Latitude Linear Regression"
   ]
  },
  {
   "cell_type": "code",
   "execution_count": 112,
   "metadata": {},
   "outputs": [
    {
     "name": "stdout",
     "output_type": "stream",
     "text": [
      "The r-squared is: 0.1730732788799096\n"
     ]
    },
    {
     "data": {
      "image/png": "[encoded data removed]",
      "text/plain": [
       "<Figure size 432x288 with 1 Axes>"
      ]
     },
     "metadata": {
      "needs_background": "light"
     },
     "output_type": "display_data"
    },
    {
     "data": {
      "text/plain": [
       "<Figure size 432x288 with 0 Axes>"
      ]
     },
     "metadata": {},
     "output_type": "display_data"
    }
   ],
   "source": [
    "# Build the Plot\n",
    "x_values = northlat_df[\"Lat\"]\n",
    "y_values = northlat_df[\"Wind Speed\"]\n",
    "plot_linear_regression(x_values,y_values,'Wind Speed',(6,30))\n",
    "\n",
    "# Save Figure\n",
    "plt.savefig(\"./Data/North_Lat_Wind_Speed.png\")\n",
    "\n",
    "# Show Plot\n",
    "plt.show()"
   ]
  },
  {
   "cell_type": "markdown",
   "metadata": {},
   "source": [
    "####  Southern Hemisphere - Wind Speed (mph) vs. Latitude Linear Regression"
   ]
  },
  {
   "cell_type": "code",
   "execution_count": 113,
   "metadata": {},
   "outputs": [
    {
     "name": "stdout",
     "output_type": "stream",
     "text": [
      "The r-squared is: -0.12215830101714614\n"
     ]
    },
    {
     "data": {
      "image/png": "[encoded data removed]",
      "text/plain": [
       "<Figure size 432x288 with 1 Axes>"
      ]
     },
     "metadata": {
      "needs_background": "light"
     },
     "output_type": "display_data"
    },
    {
     "data": {
      "text/plain": [
       "<Figure size 432x288 with 0 Axes>"
      ]
     },
     "metadata": {},
     "output_type": "display_data"
    }
   ],
   "source": [
    "# Build the Plot\n",
    "x_values = southlat_df[\"Lat\"]\n",
    "y_values = southlat_df[\"Wind Speed\"]\n",
    "plot_linear_regression(x_values,y_values,'Wind Speed',(6,30))\n",
    "\n",
    "# Save Figure\n",
    "plt.savefig(\"./Data/South_Lat_Wind_Speed.png\")\n",
    "\n",
    "# Show Plot\n",
    "plt.show()"
   ]
  },
  {
   "cell_type": "code",
   "execution_count": null,
   "metadata": {},
   "outputs": [],
   "source": []
  }
 ],
 "metadata": {
  "anaconda-cloud": {},
  "kernel_info": {
   "name": "python3"
  },
  "kernelspec": {
   "display_name": "Python 3",
   "language": "python",
   "name": "python3"
  },
  "language_info": {
   "codemirror_mode": {
    "name": "ipython",
    "version": 3
   },
   "file_extension": ".py",
   "mimetype": "text/x-python",
   "name": "python",
   "nbconvert_exporter": "python",
   "pygments_lexer": "ipython3",
   "version": "3.8.3"
  },
  "latex_envs": {
   "LaTeX_envs_menu_present": true,
   "autoclose": false,
   "autocomplete": true,
   "bibliofile": "biblio.bib",
   "cite_by": "apalike",
   "current_citInitial": 1,
   "eqLabelWithNumbers": true,
   "eqNumInitial": 1,
   "hotkeys": {
    "equation": "Ctrl-E",
    "itemize": "Ctrl-I"
   },
   "labels_anchors": false,
   "latex_user_defs": false,
   "report_style_numbering": false,
   "user_envs_cfg": false
  },
  "nteract": {
   "version": "0.12.3"
  }
 },
 "nbformat": 4,
 "nbformat_minor": 2
}
